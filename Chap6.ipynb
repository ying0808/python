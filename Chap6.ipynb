{
  "nbformat": 4,
  "nbformat_minor": 0,
  "metadata": {
    "colab": {
      "name": "Chap6.ipynb",
      "provenance": []
    },
    "kernelspec": {
      "name": "python3",
      "display_name": "Python 3"
    },
    "language_info": {
      "name": "python"
    }
  },
  "cells": [
    {
      "cell_type": "markdown",
      "metadata": {
        "id": "zrXYO5trffiq"
      },
      "source": [
        "# numpy套件(numeric python)\n",
        "## 為什麼需要numpy?\n",
        "* numpy由c撰寫，速度快python 10~1000倍以上\n",
        "* numpy儲存結果較正確，python數字儲存不正確\n",
        "* numpy節省記憶體儲存空間\n",
        "* numpy的向量(矩陣計算)速度快\n",
        "* numpy的取值方便"
      ]
    },
    {
      "cell_type": "code",
      "metadata": {
        "colab": {
          "base_uri": "https://localhost:8080/"
        },
        "id": "vPxzqXYgf4ve",
        "outputId": "76432f6d-0f54-45b6-eebe-feef5465c6d2"
      },
      "source": [
        "a_list=[1,2,3,4,5]  #串列\n",
        "print(a_list*3) #印三次"
      ],
      "execution_count": 1,
      "outputs": [
        {
          "output_type": "stream",
          "text": [
            "[1, 2, 3, 4, 5, 1, 2, 3, 4, 5, 1, 2, 3, 4, 5]\n"
          ],
          "name": "stdout"
        }
      ]
    },
    {
      "cell_type": "code",
      "metadata": {
        "colab": {
          "base_uri": "https://localhost:8080/"
        },
        "id": "h4hkJQc8gAWc",
        "outputId": "cd8810d0-c56b-4fa2-8afc-28d9a1dd27f9"
      },
      "source": [
        "#numpy套件的ndarray型態,提供element-wise的操作\n",
        "import numpy as np #插入numpy設定成np\n",
        "a=np.array([1,2,3,4,5])  #建立串列\n",
        "print(a*3) #印三次"
      ],
      "execution_count": 3,
      "outputs": [
        {
          "output_type": "stream",
          "text": [
            "[ 3  6  9 12 15]\n"
          ],
          "name": "stdout"
        }
      ]
    },
    {
      "cell_type": "code",
      "metadata": {
        "colab": {
          "base_uri": "https://localhost:8080/"
        },
        "id": "Y8iJovZygOAW",
        "outputId": "f7643d7d-3ee9-4df7-824c-5fad770c3647"
      },
      "source": [
        "a=np.array([1,2,3,4,5])\n",
        "print(type(a)) #類型\n",
        "print(a.shape) #ndaary的形狀(矩陣或數值)\n",
        "print(a.dtype) #資料的型態\n",
        "print(a.ndim) #維度"
      ],
      "execution_count": 5,
      "outputs": [
        {
          "output_type": "stream",
          "text": [
            "<class 'numpy.ndarray'>\n",
            "(5,)\n",
            "int64\n",
            "1\n"
          ],
          "name": "stdout"
        }
      ]
    },
    {
      "cell_type": "code",
      "metadata": {
        "colab": {
          "base_uri": "https://localhost:8080/"
        },
        "id": "JxQlGgKMgaTU",
        "outputId": "06808cb9-308c-4468-8c1d-812aecb7491c"
      },
      "source": [
        "import numpy as np #插入numpy設定成np\n",
        "z=np.zeros(6) #宣告全部是0的串列，有六個0\n",
        "print(z) #印出z\n",
        "print(np.empty((2,3,4))) #建立兩組3*4的陣列，且值是空的\n",
        "print(np.arange(10)) #印出0到10之間的數"
      ],
      "execution_count": 6,
      "outputs": [
        {
          "output_type": "stream",
          "text": [
            "[0. 0. 0. 0. 0. 0.]\n",
            "[[[0. 0. 0. 0.]\n",
            "  [0. 0. 0. 0.]\n",
            "  [0. 0. 0. 0.]]\n",
            "\n",
            " [[0. 0. 0. 0.]\n",
            "  [0. 0. 0. 0.]\n",
            "  [0. 0. 0. 0.]]]\n",
            "[0 1 2 3 4 5 6 7 8 9]\n"
          ],
          "name": "stdout"
        }
      ]
    },
    {
      "cell_type": "markdown",
      "metadata": {
        "id": "APR9YeSoiS1k"
      },
      "source": [
        "## ndarray的進階操作"
      ]
    },
    {
      "cell_type": "code",
      "metadata": {
        "colab": {
          "base_uri": "https://localhost:8080/"
        },
        "id": "UApRGJ3giRC5",
        "outputId": "532b21b8-10c9-47ec-cd32-402d36ee62cc"
      },
      "source": [
        "my_array=np.arange(10) #0到10之間的數 不含10\n",
        "print(my_array) #印出my_array \n",
        "print(my_array[0]) #印出第零位\n",
        "print(my_array[0:5]) #印出第零位到第4(5-1)位"
      ],
      "execution_count": 7,
      "outputs": [
        {
          "output_type": "stream",
          "text": [
            "[0 1 2 3 4 5 6 7 8 9]\n",
            "0\n",
            "[0 1 2 3 4]\n"
          ],
          "name": "stdout"
        }
      ]
    },
    {
      "cell_type": "markdown",
      "metadata": {
        "id": "k-w2QGpliokJ"
      },
      "source": [
        "### 2維資料取值"
      ]
    },
    {
      "cell_type": "code",
      "metadata": {
        "colab": {
          "base_uri": "https://localhost:8080/"
        },
        "id": "czA_jUA3in95",
        "outputId": "43d2dcdb-edaf-4ba0-871c-60029900ff0a"
      },
      "source": [
        "my_2d_array=np.array([np.arange(0,5),np.arange(5,10)]) #建立0到5之間的數(不含5)及5到10之間的數(不含10)的二維陣列\n",
        "print(my_2d_array) #印出my_2d_array\n",
        "print(my_2d_array[1,:]) #取第1陣列的所有元素\n",
        "print(my_2d_array[:,1]) #取所有行的第1列的元素\n",
        "print(my_2d_array[1,1]) #取第1陣列的第1列的元素"
      ],
      "execution_count": 9,
      "outputs": [
        {
          "output_type": "stream",
          "text": [
            "[[0 1 2 3 4]\n",
            " [5 6 7 8 9]]\n",
            "[5 6 7 8 9]\n",
            "[1 6]\n",
            "6\n"
          ],
          "name": "stdout"
        }
      ]
    },
    {
      "cell_type": "code",
      "metadata": {
        "colab": {
          "base_uri": "https://localhost:8080/"
        },
        "id": "7XVi576dkaR8",
        "outputId": "485a3bd5-a764-4eed-8019-94b373628a59"
      },
      "source": [
        "my_array=np.arange(0,10) #建立0到10之間的數 不含10\n",
        "print(my_array) #印出\n",
        "print(my_array.shape)  #形狀(矩陣或數值)\n",
        "my_2d_array=my_array.reshape(2,5) #reshape是調整矩陣或大小，(2,5)跟原來的my_2d_array一樣\n",
        "print(my_2d_array) #印出\n",
        "print((np.arange(0,100).reshape(10,10))) #印出0到100(不含100)的值，矩陣大小為10*10"
      ],
      "execution_count": 10,
      "outputs": [
        {
          "output_type": "stream",
          "text": [
            "[0 1 2 3 4 5 6 7 8 9]\n",
            "(10,)\n",
            "[[0 1 2 3 4]\n",
            " [5 6 7 8 9]]\n",
            "[[ 0  1  2  3  4  5  6  7  8  9]\n",
            " [10 11 12 13 14 15 16 17 18 19]\n",
            " [20 21 22 23 24 25 26 27 28 29]\n",
            " [30 31 32 33 34 35 36 37 38 39]\n",
            " [40 41 42 43 44 45 46 47 48 49]\n",
            " [50 51 52 53 54 55 56 57 58 59]\n",
            " [60 61 62 63 64 65 66 67 68 69]\n",
            " [70 71 72 73 74 75 76 77 78 79]\n",
            " [80 81 82 83 84 85 86 87 88 89]\n",
            " [90 91 92 93 94 95 96 97 98 99]]\n"
          ],
          "name": "stdout"
        }
      ]
    },
    {
      "cell_type": "markdown",
      "metadata": {
        "id": "4WGuiXAfm7h4"
      },
      "source": [
        "### numpy的空值nan"
      ]
    },
    {
      "cell_type": "code",
      "metadata": {
        "colab": {
          "base_uri": "https://localhost:8080/"
        },
        "id": "1SSouWbcm6To",
        "outputId": "1bc82907-95ef-4de1-b214-b0a5935aea99"
      },
      "source": [
        "b=np.array([56, 8, 19, 14, np.nan])  #nan等於空值\n",
        "print(b) #印出"
      ],
      "execution_count": 11,
      "outputs": [
        {
          "output_type": "stream",
          "text": [
            "[56.  8. 19. 14. nan]\n"
          ],
          "name": "stdout"
        }
      ]
    },
    {
      "cell_type": "code",
      "metadata": {
        "id": "gigXotHgnFgV"
      },
      "source": [
        ""
      ],
      "execution_count": null,
      "outputs": []
    }
  ]
}