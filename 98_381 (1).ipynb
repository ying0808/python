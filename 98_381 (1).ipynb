{
  "nbformat": 4,
  "nbformat_minor": 0,
  "metadata": {
    "colab": {
      "name": "98_381.ipynb",
      "provenance": [],
      "collapsed_sections": [
        "WmwvV1J2dxXF",
        "lmJFBnu7eor6",
        "_3p-QUu6fuTx",
        "DxZvX2PfgEtc",
        "U4-vivSbgra2",
        "LAwJ_EuPhcLz",
        "RpZXfqTmiaDs",
        "4UB--IGIi33j",
        "uW6ooIJGjYvf",
        "-HlI6hHAjr_8",
        "w6YEwNKtkbs_",
        "cytonGo2lFh0",
        "jakBWsKYQBx6",
        "Pj7SydaTTBm9",
        "UGlyhg2gT7lE",
        "hJK6N4apaVkD",
        "Edpx_EGEa55t",
        "KmIWJ1TQberz",
        "sHAJdIrVb8c1",
        "NhXQrfXYcvj9",
        "QS0S9e-5dGTa",
        "BpldGe-leDVB",
        "csVGv9V9eNBb",
        "CrjdSpkIgNLr",
        "lTcqitwRhgZW",
        "cdrjncIpk-Qg",
        "kfB2wDFqlOoa",
        "BarFsIyTnOJ3",
        "zsww0-WlnaQD",
        "XsVrVm-9DVIl",
        "B-5otsJ-YKXJ",
        "P0g2kfRMR8yD",
        "m1zum7G7TOxC",
        "QUsPkFBkUuRk",
        "K_RGoT06V7vM",
        "awKgp70TXjl6",
        "UjdT9sEOYdbC",
        "s-Ec8e7QZizz",
        "yR5oal_5alAa",
        "DH8mtZ0hcJbe",
        "jTLquGY2evu-",
        "2mMsdMyVhK18",
        "FzO08ATPiyPh",
        "h0PkWo__jxyL",
        "t09swWsIlDty",
        "wmCo5zcKl5op",
        "6Xl_j336oxXW",
        "zDS8Z9EsrPVT",
        "fyFBSg_duG55",
        "stejD2X-Buuk",
        "A_NA9_OVGiSa",
        "Ik7AM5w1JZav",
        "Hf7XaJG1KlWr"
      ]
    },
    "kernelspec": {
      "name": "python3",
      "display_name": "Python 3"
    },
    "language_info": {
      "name": "python"
    }
  },
  "cells": [
    {
      "cell_type": "markdown",
      "metadata": {
        "id": "WmwvV1J2dxXF"
      },
      "source": [
        "## 1\n",
        "## list的應用"
      ]
    },
    {
      "cell_type": "code",
      "metadata": {
        "colab": {
          "base_uri": "https://localhost:8080/"
        },
        "id": "FJSrJV00eJZH",
        "outputId": "af8924e8-db06-4181-c43b-6cc59908e15a"
      },
      "source": [
        "list_1=['a', 'b', 'c'] #建立list\n",
        "list_2=['d', 'e', 'f'] #建立list\n",
        "list_3=list_1 + list_2 #串連\n",
        "list_4= list_3 * 2 #印兩次\n",
        "print(list_4)"
      ],
      "execution_count": null,
      "outputs": [
        {
          "output_type": "stream",
          "text": [
            "['a', 'b', 'c', 'd', 'e', 'f', 'a', 'b', 'c', 'd', 'e', 'f']\n"
          ],
          "name": "stdout"
        }
      ]
    },
    {
      "cell_type": "markdown",
      "metadata": {
        "id": "lmJFBnu7eor6"
      },
      "source": [
        "## 2\n",
        "## 變數型別的計算\n",
        "eval函式的輸入是\"字串str\"型態的數學式，回傳則是數學式計算的結果"
      ]
    },
    {
      "cell_type": "code",
      "metadata": {
        "colab": {
          "base_uri": "https://localhost:8080/"
        },
        "id": "Y6Nxmd-Meh4_",
        "outputId": "acb8f40e-5447-4f31-f237-267b341d9ec4"
      },
      "source": [
        "car_dist= float(eval(input(\"請輸入以公里為單位的行駛距離：\"))) #輸入資料可有小數點\n",
        "run_hour= int(eval(input(\"請輸入經過的小時數：\"))) #輸入資料是整數\n",
        "run_min= int(eval(input(\"請輸入經過的分鐘：\"))) #輸入資料是整數\n",
        "run_time= run_hour + run_min/60 #運算式\n",
        "car_speed= car_dist / run_time #運算式\n",
        "print(\"汽車的時速是：\", car_speed, \"km/hr\") #印出資料"
      ],
      "execution_count": null,
      "outputs": [
        {
          "output_type": "stream",
          "text": [
            "請輸入以公里為單位的行駛距離：50.5\n",
            "請輸入經過的小時數：2\n",
            "請輸入經過的分鐘：30\n",
            "汽車的時速是： 20.2 km/hr\n"
          ],
          "name": "stdout"
        }
      ]
    },
    {
      "cell_type": "markdown",
      "metadata": {
        "id": "_3p-QUu6fuTx"
      },
      "source": [
        "## 3 (邏輯題無須程式)\n",
        "## 變數型別與運算元的應用\n",
        "/ : 除法\n",
        "//: 除法取整數\n",
        "**: 次方"
      ]
    },
    {
      "cell_type": "markdown",
      "metadata": {
        "id": "DxZvX2PfgEtc"
      },
      "source": [
        "## 4\n",
        "## 變數型別"
      ]
    },
    {
      "cell_type": "code",
      "metadata": {
        "colab": {
          "base_uri": "https://localhost:8080/"
        },
        "id": "MmIzeGYUftxa",
        "outputId": "d25afdf4-e0f9-41e6-a4bf-db0686cd0179"
      },
      "source": [
        "age=12 #建立值 int整數\n",
        "minor=False #建立值 boolean 是否(布林)\n",
        "name=\"David\" #建立值 String 字串\n",
        "weight=64.5  #建立值 float浮點數\n",
        "zip = \"545\"  #建立值 string字串 \n",
        "print(type(age), type(minor), type(name), type(weight), type(zip)) #印出類型"
      ],
      "execution_count": null,
      "outputs": [
        {
          "output_type": "stream",
          "text": [
            "<class 'int'> <class 'bool'> <class 'str'> <class 'float'> <class 'str'>\n"
          ],
          "name": "stdout"
        }
      ]
    },
    {
      "cell_type": "markdown",
      "metadata": {
        "id": "U4-vivSbgra2"
      },
      "source": [
        "## 5\n",
        "## 變數型別"
      ]
    },
    {
      "cell_type": "code",
      "metadata": {
        "colab": {
          "base_uri": "https://localhost:8080/"
        },
        "id": "5rEVIvndfLLR",
        "outputId": "ce564c2d-60e0-4ade-84c3-9fdf82cced8f"
      },
      "source": [
        "TC=input(\"請輸入攝氏溫度：\") #輸入資料\n",
        "TF=eval(TC) * (9/5) + 32 #運算式\n",
        "message = \"攝氏\" + TC + \"度等於華氏\" + str(TF) + \"度\" \n",
        "print(message)\n",
        "print(type(TC), type(TF), type(message)) #印出資料型別"
      ],
      "execution_count": null,
      "outputs": [
        {
          "output_type": "stream",
          "text": [
            "請輸入攝氏溫度：38\n",
            "攝氏38度等於華氏100.4度\n",
            "<class 'str'> <class 'float'> <class 'str'>\n"
          ],
          "name": "stdout"
        }
      ]
    },
    {
      "cell_type": "markdown",
      "metadata": {
        "id": "LAwJ_EuPhcLz"
      },
      "source": [
        "## 6\n",
        "## 變數運算型別"
      ]
    },
    {
      "cell_type": "code",
      "metadata": {
        "colab": {
          "base_uri": "https://localhost:8080/"
        },
        "id": "duZzgkeIhY1_",
        "outputId": "69ea4d1e-c395-4b24-aae0-077281ce3bd6"
      },
      "source": [
        "x1=\"0\" #字串\n",
        "y1=4 #整數\n",
        "a=x1*y1 #x1是字串 所以是x1印四次\n",
        "print(a, type(a))  \n",
        "x2=8 #整數\n",
        "y2=4 #整數\n",
        "b=x2/y2 #x1是數字 所以是x2除以y2\n",
        "print(b, type(b)) \n",
        "x3=10.5 #浮點\n",
        "y3=1 #整數\n",
        "c=x3/y3 #x3是數字 所以是x3除以y3\n",
        "print(c, type(c))"
      ],
      "execution_count": null,
      "outputs": [
        {
          "output_type": "stream",
          "text": [
            "0000 <class 'str'>\n",
            "2.0 <class 'float'>\n",
            "10.5 <class 'float'>\n"
          ],
          "name": "stdout"
        }
      ]
    },
    {
      "cell_type": "markdown",
      "metadata": {
        "id": "RpZXfqTmiaDs"
      },
      "source": [
        "## 7\n",
        "## 變數型別"
      ]
    },
    {
      "cell_type": "code",
      "metadata": {
        "colab": {
          "base_uri": "https://localhost:8080/"
        },
        "id": "8QBFs9OCh-d4",
        "outputId": "5f3fbe6a-90dd-4686-81cb-990a0835f6c3"
      },
      "source": [
        "print(type(1.0), type(+1E-10), type(\"False\"), type(True))\n",
        "#1.0=浮點,+1E-10=浮點,\"False\"=字串,true=boolean"
      ],
      "execution_count": null,
      "outputs": [
        {
          "output_type": "stream",
          "text": [
            "<class 'float'> <class 'float'> <class 'str'> <class 'bool'>\n"
          ],
          "name": "stdout"
        }
      ]
    },
    {
      "cell_type": "markdown",
      "metadata": {
        "id": "4UB--IGIi33j"
      },
      "source": [
        "##8\n",
        "## dict應用\n",
        "## input輸入型別"
      ]
    },
    {
      "cell_type": "code",
      "metadata": {
        "colab": {
          "base_uri": "https://localhost:8080/"
        },
        "id": "mNX7krGVifzD",
        "outputId": "9ea37e0d-ce2f-49a7-ae04-7370e111b76c"
      },
      "source": [
        "products = {1: '鉛筆', 2: '橡皮擦'} #建立值(有主鍵)\n",
        "id=int(input('輸入產品編號：')) #題目少了int())) #輸入資料\n",
        "if not id in products: #如果沒找到id,則印出不存在\n",
        "  print('該產品並不存在')\n",
        "else:  #找到則輸出產品\n",
        "  print(\"產品名稱為：\"+ products[id])"
      ],
      "execution_count": null,
      "outputs": [
        {
          "output_type": "stream",
          "text": [
            "輸入產品編號：1\n",
            "產品名稱為：鉛筆\n"
          ],
          "name": "stdout"
        }
      ]
    },
    {
      "cell_type": "markdown",
      "metadata": {
        "id": "uW6ooIJGjYvf"
      },
      "source": [
        "## 9\n",
        "## 變數型別"
      ]
    },
    {
      "cell_type": "code",
      "metadata": {
        "colab": {
          "base_uri": "https://localhost:8080/"
        },
        "id": "ibGm9HcIjVJg",
        "outputId": "d1cc1a1d-f5b3-425c-d17e-390d6f879df4"
      },
      "source": [
        "print(type(5))  #整數\n",
        "print(type(8.0)) #浮點\n",
        "print(type(\"True\")) #字串\n",
        "print(type(False)) #布林"
      ],
      "execution_count": null,
      "outputs": [
        {
          "output_type": "stream",
          "text": [
            "<class 'int'>\n",
            "<class 'float'>\n",
            "<class 'str'>\n",
            "<class 'bool'>\n"
          ],
          "name": "stdout"
        }
      ]
    },
    {
      "cell_type": "markdown",
      "metadata": {
        "id": "-HlI6hHAjr_8"
      },
      "source": [
        "## 10\n",
        "## 型別轉換應用"
      ]
    },
    {
      "cell_type": "code",
      "metadata": {
        "colab": {
          "base_uri": "https://localhost:8080/"
        },
        "id": "SkVgMHD7jqrm",
        "outputId": "c57ced15-bc20-4e9d-9136-e18e017c866e"
      },
      "source": [
        "#total = int(input(\"請輸入總數?\")) #因為第三行,原來程式會有錯誤\n",
        "total = eval(input(\"請輸入總數?\")) #將字串傳換成整數(int)\n",
        "total = int(total)  #轉換成int\n",
        "print(total, type(total))"
      ],
      "execution_count": null,
      "outputs": [
        {
          "output_type": "stream",
          "text": [
            "請輸入總數?150\n",
            "150 <class 'int'>\n"
          ],
          "name": "stdout"
        }
      ]
    },
    {
      "cell_type": "markdown",
      "metadata": {
        "id": "w6YEwNKtkbs_"
      },
      "source": [
        "## 11"
      ]
    },
    {
      "cell_type": "code",
      "metadata": {
        "colab": {
          "base_uri": "https://localhost:8080/"
        },
        "id": "ZmtSNpevkFtY",
        "outputId": "e50aea3d-982f-4fd8-f7c4-67c9ad1b2040"
      },
      "source": [
        "def reverse_str(oStr): #定義函式\n",
        "  reStr=\"\"\n",
        "  for index in range(len(oStr)-1, -1, -1): #(1) #將字串反轉\n",
        "    reStr += oStr[index] #(2)\n",
        "  return reStr\n",
        "print(reverse_str(\"Madam I'm Adam\")) #傳入值"
      ],
      "execution_count": null,
      "outputs": [
        {
          "output_type": "stream",
          "text": [
            "madA m'I madaM\n"
          ],
          "name": "stdout"
        }
      ]
    },
    {
      "cell_type": "markdown",
      "metadata": {
        "id": "cytonGo2lFh0"
      },
      "source": [
        "## 12\n",
        "## 型別轉換"
      ]
    },
    {
      "cell_type": "code",
      "metadata": {
        "colab": {
          "base_uri": "https://localhost:8080/"
        },
        "id": "KLx1Ee65PtP0",
        "outputId": "b3744680-b321-479c-fcb8-ba900701a6aa"
      },
      "source": [
        "time_start = input(\"早上上班時間是幾點?\") #請輸入資料\n",
        "time_end = input(\"下午下班時間是幾點?\") #請輸入資料\n",
        "print(\"本日上班時間：\"+ str(int(time_end)-int(time_start))+\"小時\") #從int轉str"
      ],
      "execution_count": null,
      "outputs": [
        {
          "output_type": "stream",
          "text": [
            "早上上班時間是幾點?8\n",
            "下午下班時間是幾點?16\n",
            "本日上班時間：8小時\n"
          ],
          "name": "stdout"
        }
      ]
    },
    {
      "cell_type": "markdown",
      "metadata": {
        "id": "jakBWsKYQBx6"
      },
      "source": [
        "## 13\n",
        "## 字串取值"
      ]
    },
    {
      "cell_type": "code",
      "metadata": {
        "id": "TqH_M7W-lEDu",
        "colab": {
          "base_uri": "https://localhost:8080/"
        },
        "outputId": "29ec3e56-250d-4756-b2e9-0857603da09d"
      },
      "source": [
        "astr=\"abcdefghijklmnopqrstuvwxyz\" #字串 #a是第0位\n",
        "print(astr[5:20]) #從第五個到第19個(不含20)\n",
        "print(astr[5:20:3]) #從第五個到第19個(不含20)，間隔3取值\n",
        "print(astr[20:5:-3]) #從第19個(不含20)到第5個，間隔3取值\n",
        "print(astr[::-3]) #從最後取到第0位，間隔-3\n",
        "print(astr[3:15:-1]) #無法執行，因間隔為負值"
      ],
      "execution_count": null,
      "outputs": [
        {
          "output_type": "stream",
          "text": [
            "fghijklmnopqrst\n",
            "filor\n",
            "uroli\n",
            "zwtqnkheb\n",
            "\n"
          ],
          "name": "stdout"
        }
      ]
    },
    {
      "cell_type": "markdown",
      "metadata": {
        "id": "Pj7SydaTTBm9"
      },
      "source": [
        "## 14\n",
        "## list取值"
      ]
    },
    {
      "cell_type": "code",
      "metadata": {
        "colab": {
          "base_uri": "https://localhost:8080/"
        },
        "id": "5XE8EuiGTBKC",
        "outputId": "0f7c16b0-6eff-4de2-fc16-276210f805eb"
      },
      "source": [
        "members=list(range(1,51)) #1到50(不含51)\n",
        "print(members) #印出\n",
        "#print(member[-5:0])無法執行 #A\n",
        "print(members[0:-5]) #B 第0位(1)到第51-5位(45)\n",
        "#members[1:-5 無法執行 #C\n",
        "print(members[:-5]) #D 第0位(1)到第51-5位(45)\n",
        "print(members[1:5]) #E 第1位(2)到第5-1位(5)"
      ],
      "execution_count": null,
      "outputs": [
        {
          "output_type": "stream",
          "text": [
            "[1, 2, 3, 4, 5, 6, 7, 8, 9, 10, 11, 12, 13, 14, 15, 16, 17, 18, 19, 20, 21, 22, 23, 24, 25, 26, 27, 28, 29, 30, 31, 32, 33, 34, 35, 36, 37, 38, 39, 40, 41, 42, 43, 44, 45, 46, 47, 48, 49, 50]\n",
            "[1, 2, 3, 4, 5, 6, 7, 8, 9, 10, 11, 12, 13, 14, 15, 16, 17, 18, 19, 20, 21, 22, 23, 24, 25, 26, 27, 28, 29, 30, 31, 32, 33, 34, 35, 36, 37, 38, 39, 40, 41, 42, 43, 44, 45]\n",
            "[1, 2, 3, 4, 5, 6, 7, 8, 9, 10, 11, 12, 13, 14, 15, 16, 17, 18, 19, 20, 21, 22, 23, 24, 25, 26, 27, 28, 29, 30, 31, 32, 33, 34, 35, 36, 37, 38, 39, 40, 41, 42, 43, 44, 45]\n",
            "[2, 3, 4, 5]\n"
          ],
          "name": "stdout"
        }
      ]
    },
    {
      "cell_type": "markdown",
      "metadata": {
        "id": "UGlyhg2gT7lE"
      },
      "source": [
        "## 15\n",
        "## list取值"
      ]
    },
    {
      "cell_type": "code",
      "metadata": {
        "colab": {
          "base_uri": "https://localhost:8080/"
        },
        "id": "sdepG24FRThs",
        "outputId": "46587e2d-aa52-4490-d2a3-3c828bc24fd3"
      },
      "source": [
        "#本題要取出星期2,星期4,星期6\n",
        "weeks=[1,2,3,4,5,6,7] #設定串列\n",
        "print(weeks[2:2]) #印出第2位到第2-1位(無法執行)\n",
        "print(weeks[::2]) #從第0位到最後，間隔2\n",
        "print(weeks[1::2]) #從第一位到最後，間隔2\n",
        "print(weeks[1:2]) #從第一位到2-1位"
      ],
      "execution_count": null,
      "outputs": [
        {
          "output_type": "stream",
          "text": [
            "[]\n",
            "[1, 3, 5, 7]\n",
            "[2, 4, 6]\n",
            "[2]\n"
          ],
          "name": "stdout"
        }
      ]
    },
    {
      "cell_type": "markdown",
      "metadata": {
        "id": "hJK6N4apaVkD"
      },
      "source": [
        "## 16\n",
        "## 算式表示"
      ]
    },
    {
      "cell_type": "code",
      "metadata": {
        "colab": {
          "base_uri": "https://localhost:8080/"
        },
        "id": "AU-YaFJqaTPU",
        "outputId": "5e0fed96-6094-47a3-826d-ef3cfbcafb96"
      },
      "source": [
        "x=eval(input(\"輸入一個數字：\")) #插入eval的input輸入值的類型式int\n",
        "y=(x+7)**2 #運算式 **2=平方\n",
        "print(y) #印出值 "
      ],
      "execution_count": null,
      "outputs": [
        {
          "output_type": "stream",
          "text": [
            "輸入一個數字：5\n",
            "144\n"
          ],
          "name": "stdout"
        }
      ]
    },
    {
      "cell_type": "markdown",
      "metadata": {
        "id": "Edpx_EGEa55t"
      },
      "source": [
        "##17\n",
        "## not的應用"
      ]
    },
    {
      "cell_type": "code",
      "metadata": {
        "colab": {
          "base_uri": "https://localhost:8080/"
        },
        "id": "30-TGywMav9Y",
        "outputId": "3f699138-7e99-4b86-cfa5-44b665c317e5"
      },
      "source": [
        "def get_discount(kid, girl): #定義函式\n",
        "  discount = 0.2 #設定值\n",
        "  if not (kid or girl): #如果不是kid或girl\n",
        "    discount=0  #設定值\n",
        "  return discount #回傳值\n",
        "\n",
        "print(\"discount=\", get_discount(True,False)) #印出，"
      ],
      "execution_count": null,
      "outputs": [
        {
          "output_type": "stream",
          "text": [
            "discount= 0.2\n"
          ],
          "name": "stdout"
        }
      ]
    },
    {
      "cell_type": "markdown",
      "metadata": {
        "id": "KmIWJ1TQberz"
      },
      "source": [
        "## 18\n",
        "## Bool的應用"
      ]
    },
    {
      "cell_type": "code",
      "metadata": {
        "colab": {
          "base_uri": "https://localhost:8080/"
        },
        "id": "j4nI5rQ6bIe9",
        "outputId": "03a206eb-d139-4168-9970-741879386023"
      },
      "source": [
        "print(0 or 2)\n",
        "print(bool()) #轉換bool型態，沒參數回傳False\n",
        "print(None == None) #判斷後方none是否等於前方的none，若相等則回傳TRUE\n",
        "print(-2<0<2) #若判斷式成立則回傳TRUE"
      ],
      "execution_count": null,
      "outputs": [
        {
          "output_type": "stream",
          "text": [
            "2\n",
            "False\n",
            "True\n",
            "True\n"
          ],
          "name": "stdout"
        }
      ]
    },
    {
      "cell_type": "markdown",
      "metadata": {
        "id": "sHAJdIrVb8c1"
      },
      "source": [
        "## 19\n",
        "## 運算子優先順序"
      ]
    },
    {
      "cell_type": "code",
      "metadata": {
        "colab": {
          "base_uri": "https://localhost:8080/"
        },
        "id": "nSRo69TebkTj",
        "outputId": "f1cf7c71-ffaf-49bb-bfca-a40261bc0cc2"
      },
      "source": [
        "print((5*(1+2)**2-3+4/2)) \n",
        "#順序:()括號→**平方→+-正負→*乘、/除、%取餘數→+加、-減"
      ],
      "execution_count": null,
      "outputs": [
        {
          "output_type": "stream",
          "text": [
            "44.0\n"
          ],
          "name": "stdout"
        }
      ]
    },
    {
      "cell_type": "markdown",
      "metadata": {
        "id": "NhXQrfXYcvj9"
      },
      "source": [
        "## 20\n",
        "## 變數應用"
      ]
    },
    {
      "cell_type": "code",
      "metadata": {
        "colab": {
          "base_uri": "https://localhost:8080/"
        },
        "id": "kNqxezNCcMAQ",
        "outputId": "7f5cb4fa-5d4c-4ddd-d89f-de02c12f2544"
      },
      "source": [
        "a='Apple'#設定值\n",
        "print(a) #印出\n",
        "b='Banana' #設定值\n",
        "a+=b #a=a+b(字串+字串)\n",
        "b=a #a的值給b\n",
        "print(a) #印出a\n",
        "print(b) #印出b"
      ],
      "execution_count": null,
      "outputs": [
        {
          "output_type": "stream",
          "text": [
            "Apple\n",
            "AppleBanana\n",
            "AppleBanana\n"
          ],
          "name": "stdout"
        }
      ]
    },
    {
      "cell_type": "markdown",
      "metadata": {
        "id": "QS0S9e-5dGTa"
      },
      "source": [
        "## 21\n",
        "## 運算子優先順序"
      ]
    },
    {
      "cell_type": "code",
      "metadata": {
        "colab": {
          "base_uri": "https://localhost:8080/"
        },
        "id": "k4_3iC3Dc95q",
        "outputId": "aee20e37-709b-47b4-9111-f3bbba1e7f0e"
      },
      "source": [
        "def calc(a,b,c,d): #定義函式\n",
        "  value=(a-b)/c+d #運算值\n",
        "  return value #回傳值\n",
        "print(calc(1,1,1,2)) #將數字回傳給calc並執行，再印出"
      ],
      "execution_count": null,
      "outputs": [
        {
          "output_type": "stream",
          "text": [
            "2.0\n"
          ],
          "name": "stdout"
        }
      ]
    },
    {
      "cell_type": "markdown",
      "metadata": {
        "id": "BpldGe-leDVB"
      },
      "source": [
        "## 22\n",
        "## 運算子優先順序 () → * → +- → / → + - → or"
      ]
    },
    {
      "cell_type": "markdown",
      "metadata": {
        "id": "csVGv9V9eNBb"
      },
      "source": [
        "## 23\n",
        "## for迴圈與if判斷式"
      ]
    },
    {
      "cell_type": "code",
      "metadata": {
        "colab": {
          "base_uri": "https://localhost:8080/"
        },
        "id": "zAV26LwUd1xY",
        "outputId": "9d89d4da-0e5f-4e6d-a945-32de1d1351d0"
      },
      "source": [
        "def count_word(word, words_list): ##定義函式\n",
        "  count=0 #設定值\n",
        "  for keyword in words_list: #將words_list一個一個取出，放在keyword\n",
        "    if keyword == word: #若word與keywords相等\n",
        "      count+=1 #則count+1\n",
        "  return count #回傳count\n",
        "words_list=['i','am','a','boy','you','are','a','girl'] #設定值\n",
        "word=input(\"你想要查詢哪個單字的數量?\") #請輸入資料\n",
        "wtotal=count_word(word, words_list) #設定要給函式的資料\n",
        "print(\"在文章中一共有:\", wtotal,\"個單字\", word) #印出"
      ],
      "execution_count": null,
      "outputs": [
        {
          "output_type": "stream",
          "text": [
            "你想要查詢哪個單字的數量?i\n",
            "在文章中一共有: 1 個單字 i\n"
          ],
          "name": "stdout"
        }
      ]
    },
    {
      "cell_type": "markdown",
      "metadata": {
        "id": "CrjdSpkIgNLr"
      },
      "source": [
        "## 24\n",
        "## if判斷式應用"
      ]
    },
    {
      "cell_type": "code",
      "metadata": {
        "colab": {
          "base_uri": "https://localhost:8080/"
        },
        "id": "eNuHIDhvfu2M",
        "outputId": "5dd0e3da-6553-4d8a-ec6a-2f37ceb486ff"
      },
      "source": [
        "ontime=input(\"機車是在晚上10點前返還的嗎? y或n:\").lower() #轉小寫\n",
        "days_rented = int(input(\"機車出租了幾天?\")) #輸入的值類型式int\n",
        "day_rented = input(\"機車是在星期幾出租的?\").capitalize() #首字大寫\n",
        "cost_per_day = 500 #設定值\n",
        "if ontime == 'n': #如果ontime的值是n\n",
        "  days_rented += 1 #則+1\n",
        "if day_rented == 'Wednesday': #如果day_rented的值是Wednesday\n",
        "  total = (days_rented * cost_per_day) * 0.9 #運算式\n",
        "if day_rented == 'Saturday': #如果day_rented的值是Saturday\n",
        "  total = (days_rented * cost_per_day) * 0.8 #運算式\n",
        "print(\"機車的租借費用為:$\", total) #印出值"
      ],
      "execution_count": null,
      "outputs": [
        {
          "output_type": "stream",
          "text": [
            "機車是在晚上10點前返還的嗎? y或n:n\n",
            "機車出租了幾天?5\n",
            "機車是在星期幾出租的?Wednesday\n",
            "機車的租借費用為:$ 2700.0\n"
          ],
          "name": "stdout"
        }
      ]
    },
    {
      "cell_type": "markdown",
      "metadata": {
        "id": "lTcqitwRhgZW"
      },
      "source": [
        "## 25\n",
        "## if判斷式應用與None"
      ]
    },
    {
      "cell_type": "code",
      "metadata": {
        "colab": {
          "base_uri": "https://localhost:8080/"
        },
        "id": "_KKxU6XbhY2j",
        "outputId": "9c69f4b6-f7bf-4c9e-ac17-be82202e64a1"
      },
      "source": [
        "def do_times(n1,n2): #定義函式\n",
        "  if (n1 is None or n2 is None): #如果n1或n2是None\n",
        "    return(\"你少填了被乘數與乘數\") #回傳值\n",
        "  if (n1==0 or n2==0): # 如果n1或n2是0\n",
        "    return(\"你的乘數或被乘數為0\") #回傳值\n",
        "  else: #以上都不符合\n",
        "    return n1*n2 #回傳值\n",
        "print(do_times(None,2)) #設定要給函式的值，並印出\n",
        "print(do_times(2,0)) #設定要給函式的值，並印出\n",
        "print(do_times(2,3)) #設定要給函式的值，並印出"
      ],
      "execution_count": null,
      "outputs": [
        {
          "output_type": "stream",
          "text": [
            "你少填了被乘數與乘數\n",
            "你的乘數或被乘數為0\n",
            "6\n"
          ],
          "name": "stdout"
        }
      ]
    },
    {
      "cell_type": "markdown",
      "metadata": {
        "id": "cdrjncIpk-Qg"
      },
      "source": [
        "## 26\n",
        "## 運算子應用"
      ]
    },
    {
      "cell_type": "code",
      "metadata": {
        "colab": {
          "base_uri": "https://localhost:8080/"
        },
        "id": "uJ80I6YNk8TJ",
        "outputId": "9a06f310-dced-45e0-f757-4b6b9280d3c5"
      },
      "source": [
        "a=21 #設定值\n",
        "b=5 #設定值\n",
        "print(a/b) #運算式 除法\n",
        "print(a//b) #運算式 除法取商\n",
        "print(a%b) #運算式 除法取餘數"
      ],
      "execution_count": null,
      "outputs": [
        {
          "output_type": "stream",
          "text": [
            "4.2\n",
            "4\n",
            "1\n"
          ],
          "name": "stdout"
        }
      ]
    },
    {
      "cell_type": "markdown",
      "metadata": {
        "id": "kfB2wDFqlOoa"
      },
      "source": [
        "## 27\n",
        "## while迴圈應用"
      ]
    },
    {
      "cell_type": "code",
      "metadata": {
        "colab": {
          "base_uri": "https://localhost:8080/"
        },
        "id": "cxX8dWWrlK0T",
        "outputId": "029c6f5a-c6ec-4672-bd10-fbb19f80f6cf"
      },
      "source": [
        "x=0 #設定值\n",
        "while x<4: #執行到x大於4\n",
        "  if x//3 == 1: #如果x除3取商是1\n",
        "    print(\"Apple\") #印出值\n",
        "  elif x-2 == 0: #如果x-2=0\n",
        "    print(\"Banana\") #印出值\n",
        "  elif x%3 == 0: #如果x除3取餘數是0\n",
        "    print(\"Cherry\") #印出值\n",
        "  else: #以上都不符合\n",
        "    print(\"Fruit\") #印出值\n",
        "  x=x+1 #每跑完一次迴圈則+1"
      ],
      "execution_count": null,
      "outputs": [
        {
          "output_type": "stream",
          "text": [
            "Cherry\n",
            "Fruit\n",
            "Banana\n",
            "Apple\n"
          ],
          "name": "stdout"
        }
      ]
    },
    {
      "cell_type": "markdown",
      "metadata": {
        "id": "BarFsIyTnOJ3"
      },
      "source": [
        "## 28\n",
        "## list應用"
      ]
    },
    {
      "cell_type": "code",
      "metadata": {
        "colab": {
          "base_uri": "https://localhost:8080/"
        },
        "id": "6y-XQd9gnMbn",
        "outputId": "3e0f8701-10d8-4872-a32b-66bfdad36e7a"
      },
      "source": [
        "slist = ['a','b','c','d','e','f'] #設定值\n",
        "print('f' in slist) #印出f有無在slist裡"
      ],
      "execution_count": null,
      "outputs": [
        {
          "output_type": "stream",
          "text": [
            "True\n"
          ],
          "name": "stdout"
        }
      ]
    },
    {
      "cell_type": "markdown",
      "metadata": {
        "id": "zsww0-WlnaQD"
      },
      "source": [
        "## 29\n",
        "## ==與is的應用"
      ]
    },
    {
      "cell_type": "code",
      "metadata": {
        "colab": {
          "base_uri": "https://localhost:8080/"
        },
        "id": "GeJJvscBnZC_",
        "outputId": "c40922c6-7db2-4a5b-bf14-675f6cd1f906"
      },
      "source": [
        "aList = ['a','b','c','d','e'] #串列 字串形式\n",
        "bList = [1,2,3,4,5] #串列 int形式\n",
        "print(aList is bList) #判斷變量(位址)aList的位址與bList的位址不相同\n",
        "print(aList == bList) #aList是否等於bList\n",
        "aList = [1,2,3,4,5] #重新定義為int\n",
        "print(aList is bList) #aList的位址與bList的位址不相同\n",
        "print(aList == bList) #aList是否等於bList"
      ],
      "execution_count": null,
      "outputs": [
        {
          "output_type": "stream",
          "text": [
            "False\n",
            "False\n",
            "False\n",
            "True\n"
          ],
          "name": "stdout"
        }
      ]
    },
    {
      "cell_type": "markdown",
      "metadata": {
        "id": "XsVrVm-9DVIl"
      },
      "source": [
        "## 30\n",
        "## if判斷式,==與!=的應"
      ]
    },
    {
      "cell_type": "code",
      "metadata": {
        "colab": {
          "base_uri": "https://localhost:8080/"
        },
        "id": "jjGMZbEHC4ym",
        "outputId": "78ed0b24-50dc-46af-c1d8-b81badf67792"
      },
      "source": [
        "num=eval(input(\"請輸入小於100, 大於或等於50的數字：\")) #輸入的值類型式int\n",
        "if num < 100: #若num小於100\n",
        "  if num >= 50: #若num大於等於50\n",
        "    if num == 50: #原來的=是指定值 若num等於0\n",
        "      print('數字等於50') #印出值\n",
        "    else: #其餘則印出該行\n",
        "      print('數字在範圍內')\n",
        "  else: #若num>=50不成立，則印出下行\n",
        "    print('數字小於50')\n",
        "elif num != 100: #原來的<>是錯的 #若num小於100不成立，則印出下行\n",
        "  print('數字大於100') \n",
        "else: #若num=100 則印出下行\n",
        "  print('數字等於100')"
      ],
      "execution_count": null,
      "outputs": [
        {
          "output_type": "stream",
          "text": [
            "請輸入小於100, 大於或等於50的數字：80\n",
            "數字在範圍內\n"
          ],
          "name": "stdout"
        }
      ]
    },
    {
      "cell_type": "markdown",
      "metadata": {
        "id": "B-5otsJ-YKXJ"
      },
      "source": [
        "## 31\n",
        "## if elif else判斷式應用"
      ]
    },
    {
      "cell_type": "code",
      "metadata": {
        "colab": {
          "base_uri": "https://localhost:8080/"
        },
        "id": "G7JBdRIxDi4E",
        "outputId": "5d2af9bb-9ca2-4bef-c33a-241752e79b76"
      },
      "source": [
        "grade = int(input(\"請輸入分數：\")) #輸入對話框\n",
        "if grade >= 90: #如果grade大於等於90則回傳下行\n",
        "  letter_grade = 'A'\n",
        "elif grade >= 80: #如果grade大於等於80則回傳下行\n",
        "  letter_grade = 'B'\n",
        "elif grade >= 70: #如果grade大於等於70則回傳下行\n",
        "  letter_grade = 'C'\n",
        "elif grade >= 60: #如果grade大於等於60則回傳下行\n",
        "  letter_grade = 'D'\n",
        "else: #以上都不成立則回傳下行\n",
        "  letter_grade = 'E'\n",
        "print(\"你的等級為：\", letter_grade)#印出"
      ],
      "execution_count": null,
      "outputs": [
        {
          "output_type": "stream",
          "text": [
            "請輸入分數：55\n",
            "你的等級為： E\n"
          ],
          "name": "stdout"
        }
      ]
    },
    {
      "cell_type": "markdown",
      "metadata": {
        "id": "P0g2kfRMR8yD"
      },
      "source": [
        "## 33  \n",
        "## if判斷式,邏輯與縮牌位置應用"
      ]
    },
    {
      "cell_type": "code",
      "metadata": {
        "colab": {
          "base_uri": "https://localhost:8080/"
        },
        "id": "baBm05bQRoxe",
        "outputId": "acc5d7c6-4c99-4c26-fd37-f37f8b9d3ad4"
      },
      "source": [
        "def reResult(a): #定義函式\n",
        "  if a>0: #如果a大於0則回傳下行\n",
        "    answer=\"值是正數\"\n",
        "  else: #上行不成立\n",
        "    if a<0 : #如果a<0則回傳下行\n",
        "      answer=\"值是負數\"\n",
        "    else: #上行不成立則回傳下行\n",
        "      answer=\"值是零\"\n",
        "  return answer #回傳值\n",
        "\n",
        "print(reResult(2)) #給值並印出結果\n",
        "print(reResult(-2)) #給值並印出結果\n",
        "print(reResult(0)) #給值並印出結果"
      ],
      "execution_count": null,
      "outputs": [
        {
          "output_type": "stream",
          "text": [
            "值是正數\n",
            "值是負數\n",
            "值是零\n"
          ],
          "name": "stdout"
        }
      ]
    },
    {
      "cell_type": "markdown",
      "metadata": {
        "id": "m1zum7G7TOxC"
      },
      "source": [
        "## 34  \n",
        "## if判斷式應用"
      ]
    },
    {
      "cell_type": "code",
      "metadata": {
        "colab": {
          "base_uri": "https://localhost:8080/"
        },
        "id": "6FBQaHbPS-bu",
        "outputId": "473e4ce8-c08a-4e10-cf76-a38ecfbdce6a"
      },
      "source": [
        "def ticket_fee(age,school): #定義函式\n",
        "  fee=0 #設定值\n",
        "  if age>=5 and school==True: #如果age小於等於5和school是真則回傳下行\n",
        "    fee=150 #設定值\n",
        "  if age>=5 and school==False: #如果age大於等於5和school是否\n",
        "    if age <= 17: #age若小於等於17則回傳下行\n",
        "      fee=200 #設定值\n",
        "    else: #以上都不符合則回傳下行\n",
        "      fee=300 #設定值\n",
        "  return fee #回傳值\n",
        "\n",
        "print(ticket_fee(3, False)) #給值並印出結果\n",
        "print(ticket_fee(10, True)) #給值並印出結果\n",
        "print(ticket_fee(10, False)) #給值並印出結果\n",
        "print(ticket_fee(20, False))#給值並印出結果"
      ],
      "execution_count": null,
      "outputs": [
        {
          "output_type": "stream",
          "text": [
            "0\n",
            "150\n",
            "200\n",
            "300\n"
          ],
          "name": "stdout"
        }
      ]
    },
    {
      "cell_type": "markdown",
      "metadata": {
        "id": "QUsPkFBkUuRk"
      },
      "source": [
        "## 35  \n",
        "## if判斷式應用"
      ]
    },
    {
      "cell_type": "code",
      "metadata": {
        "colab": {
          "base_uri": "https://localhost:8080/"
        },
        "id": "9e_EsAXhUtYc",
        "outputId": "44403058-6a15-4a55-8ad9-cb19cfffadf2"
      },
      "source": [
        "def is_digit(n): #定義函式\n",
        "  try: #產生例外\n",
        "    int(n) #如果n可轉成int 就回傳true\n",
        "    return True\n",
        "  except ValueError: #做相對應的例外處理\n",
        "    return False #try無法執行則回傳False\n",
        "num=input(\"請輸入一個正整數:\") #輸入對話窗\n",
        "if is_digit(num) and int(num)>0: #如果is_digit(num)是真和int的num大於0則\n",
        "  num=int(eval(num)) #num轉成int\n",
        "  if num<10: #如果num小於10則回傳下行\n",
        "    digits=\"1\"\n",
        "  elif num<100: #如果num小於100則回傳下行\n",
        "    digits=\"2\"\n",
        "  else: #以上不成立則回傳下行\n",
        "    digits=\">2\"\n",
        "  print(digits + \"位數.\") #if、elif、elif 不管是哪行成立，都要執行這行\n",
        "else: #第一if不成立就會跳至這行\n",
        "  print(\"輸入值並不是數值或正整數\") #因輸入的資料不是正整數"
      ],
      "execution_count": null,
      "outputs": [
        {
          "output_type": "stream",
          "text": [
            "請輸入一個正整數:d\n",
            "輸入值並不是數值或正整數\n"
          ],
          "name": "stdout"
        }
      ]
    },
    {
      "cell_type": "markdown",
      "metadata": {
        "id": "K_RGoT06V7vM"
      },
      "source": [
        "## 36  \n",
        "## for迴圈應用與break, contine"
      ]
    },
    {
      "cell_type": "code",
      "metadata": {
        "colab": {
          "base_uri": "https://localhost:8080/"
        },
        "id": "Hn4OdMCRUnNg",
        "outputId": "a16c95e9-a922-4bd5-8038-2e3f003e337d"
      },
      "source": [
        "from random import randint #從亂數模組中，匯入一個定義-隨機整數\n",
        "answer=randint(1,100) #1~99\n",
        "print(\"猜一個從1到100的整數.你將有3次機會.\") #印出該行\n",
        "print(answer) #印出終極碼\n",
        "for i in range(3): #跑3次迴圈\n",
        "  guess=int(input(\"請輸入一個整數：\")) #輸入的整數會轉成int\n",
        "  if guess > answer: #若猜的大於終極碼則印出下行\n",
        "    print(\"數字太大了，猜低一點\")\n",
        "  elif guess < answer: #若猜的小於終極碼則印出下行\n",
        "    print(\"數字太小了，猜高一點\")\n",
        "  else: #以上都不成立則印出下行\n",
        "    print(\"猜對了!\")\n",
        "print(\"終極密碼是\", answer) #迴圈跑完會顯示\n"
      ],
      "execution_count": null,
      "outputs": [
        {
          "output_type": "stream",
          "text": [
            "猜一個從1到100的整數.你將有3次機會.\n",
            "74\n",
            "請輸入一個整數：60\n",
            "數字太小了，猜高一點\n",
            "請輸入一個整數：70\n",
            "數字太小了，猜高一點\n",
            "請輸入一個整數：74\n",
            "猜對了!\n",
            "終極密碼是 74\n"
          ],
          "name": "stdout"
        }
      ]
    },
    {
      "cell_type": "markdown",
      "metadata": {
        "id": "awKgp70TXjl6"
      },
      "source": [
        "## 37  \n",
        "## if判斷式應用"
      ]
    },
    {
      "cell_type": "code",
      "metadata": {
        "colab": {
          "base_uri": "https://localhost:8080/"
        },
        "id": "oOnxXDYhXCwt",
        "outputId": "51270199-ae41-4488-baf3-d92d5b2cf083"
      },
      "source": [
        "from random import randint #從亂數模組中，匯入一個定義-隨機整數\n",
        "num=randint(1,100) #1-99\n",
        "if num % 2 == 0: #num除2取餘數若是0\n",
        "  print(\"%d是偶數\" % num) # %後填入要在字串顯示的值\n",
        "else:#以上都不成立則印出下行\n",
        "  print(\"%d是奇數\" % num) # %後填入要在字串顯示的值\n"
      ],
      "execution_count": null,
      "outputs": [
        {
          "output_type": "stream",
          "text": [
            "13是奇數\n"
          ],
          "name": "stdout"
        }
      ]
    },
    {
      "cell_type": "markdown",
      "metadata": {
        "id": "UjdT9sEOYdbC"
      },
      "source": [
        "## 38  \n",
        "## 程式結構重組"
      ]
    },
    {
      "cell_type": "code",
      "metadata": {
        "colab": {
          "base_uri": "https://localhost:8080/"
        },
        "id": "PjWrWfV-X7eM",
        "outputId": "b2f727d0-494c-4014-ee33-9736051eb58a"
      },
      "source": [
        "en_name=input(\"請輸入英文姓名：\") #輸入對話窗\n",
        "if en_name.upper() == en_name: #如果en_name輸入的是大寫則印出下行\n",
        "  print(en_name, \"是全部大寫.\")\n",
        "elif en_name.lower() == en_name: #如果en_name輸入的是小寫則印出下行\n",
        "  print(en_name, \"是全部小寫.\")\n",
        "else: #以上都不成立則印出下行\n",
        "  print(en_name, \"是大小寫混合.\")"
      ],
      "execution_count": null,
      "outputs": [
        {
          "output_type": "stream",
          "text": [
            "請輸入英文姓名：Candy\n",
            "Candy 是大小寫混合.\n"
          ],
          "name": "stdout"
        }
      ]
    },
    {
      "cell_type": "markdown",
      "metadata": {
        "id": "s-Ec8e7QZizz"
      },
      "source": [
        "## 39  \n",
        "## for迴圈與continue"
      ]
    },
    {
      "cell_type": "code",
      "metadata": {
        "colab": {
          "base_uri": "https://localhost:8080/"
        },
        "id": "X5n-_JU7ZQr_",
        "outputId": "6113053f-cad9-491f-ddb3-a2a2a2892125"
      },
      "source": [
        "salaryList=[10000, 24000, 30000, 5000, 14000] #設定串列\n",
        "for index in range(len(salaryList)): #答案有錯  #將salaryList中的值逐一跑迴圈\n",
        "  if salaryList[index]>15000: #若salaryList[index](從第0位到最後)有大於15000\n",
        "    continue #continue直接進入下一個迴圈，不執行接下來的命令(重新跑迴圈)\n",
        "  salaryList[index]=18000+2000#小於15000才執行\n",
        "print(salaryList) #印出結果"
      ],
      "execution_count": null,
      "outputs": [
        {
          "output_type": "stream",
          "text": [
            "[20000, 24000, 30000, 20000, 20000]\n"
          ],
          "name": "stdout"
        }
      ]
    },
    {
      "cell_type": "markdown",
      "metadata": {
        "id": "yR5oal_5alAa"
      },
      "source": [
        "## 40  \n",
        "## range應用\n",
        "(答案選項錯誤)"
      ]
    },
    {
      "cell_type": "code",
      "metadata": {
        "colab": {
          "base_uri": "https://localhost:8080/"
        },
        "id": "Mb21NRClaI94",
        "outputId": "30989a5b-3948-4479-f45c-891a6a4dc486"
      },
      "source": [
        "def show_99():  ##定義函式\n",
        "  for x in range(1,10): #迴圈重複跑10次 x從1到10\n",
        "    for y in range(1,10): #迴圈重複跑10次 y從1到10\n",
        "      print(\"{}*{}={}\".format(x,y,x*y)) #印出值\n",
        "    print() #空白行\n",
        "show_99() #函式執行"
      ],
      "execution_count": null,
      "outputs": [
        {
          "output_type": "stream",
          "text": [
            "1*1=1\n",
            "1*2=2\n",
            "1*3=3\n",
            "1*4=4\n",
            "1*5=5\n",
            "1*6=6\n",
            "1*7=7\n",
            "1*8=8\n",
            "1*9=9\n",
            "\n",
            "2*1=2\n",
            "2*2=4\n",
            "2*3=6\n",
            "2*4=8\n",
            "2*5=10\n",
            "2*6=12\n",
            "2*7=14\n",
            "2*8=16\n",
            "2*9=18\n",
            "\n",
            "3*1=3\n",
            "3*2=6\n",
            "3*3=9\n",
            "3*4=12\n",
            "3*5=15\n",
            "3*6=18\n",
            "3*7=21\n",
            "3*8=24\n",
            "3*9=27\n",
            "\n",
            "4*1=4\n",
            "4*2=8\n",
            "4*3=12\n",
            "4*4=16\n",
            "4*5=20\n",
            "4*6=24\n",
            "4*7=28\n",
            "4*8=32\n",
            "4*9=36\n",
            "\n",
            "5*1=5\n",
            "5*2=10\n",
            "5*3=15\n",
            "5*4=20\n",
            "5*5=25\n",
            "5*6=30\n",
            "5*7=35\n",
            "5*8=40\n",
            "5*9=45\n",
            "\n",
            "6*1=6\n",
            "6*2=12\n",
            "6*3=18\n",
            "6*4=24\n",
            "6*5=30\n",
            "6*6=36\n",
            "6*7=42\n",
            "6*8=48\n",
            "6*9=54\n",
            "\n",
            "7*1=7\n",
            "7*2=14\n",
            "7*3=21\n",
            "7*4=28\n",
            "7*5=35\n",
            "7*6=42\n",
            "7*7=49\n",
            "7*8=56\n",
            "7*9=63\n",
            "\n",
            "8*1=8\n",
            "8*2=16\n",
            "8*3=24\n",
            "8*4=32\n",
            "8*5=40\n",
            "8*6=48\n",
            "8*7=56\n",
            "8*8=64\n",
            "8*9=72\n",
            "\n",
            "9*1=9\n",
            "9*2=18\n",
            "9*3=27\n",
            "9*4=36\n",
            "9*5=45\n",
            "9*6=54\n",
            "9*7=63\n",
            "9*8=72\n",
            "9*9=81\n",
            "\n"
          ],
          "name": "stdout"
        }
      ]
    },
    {
      "cell_type": "markdown",
      "metadata": {
        "id": "DH8mtZ0hcJbe"
      },
      "source": [
        "## 41  \n",
        "## 程式結構重組"
      ]
    },
    {
      "cell_type": "code",
      "metadata": {
        "colab": {
          "base_uri": "https://localhost:8080/"
        },
        "id": "zUVpAYuubaf-",
        "outputId": "9ee342b1-5924-428a-cb09-0bb718ae7863"
      },
      "source": [
        "n=2 #設定值\n",
        "while n<=50: #執行到n大於50\n",
        "  is_prime=True #設定值\n",
        "  for i in range(2,n): #跑迴圈 i從2到n\n",
        "    if n % i ==0: #若n除i取餘數等於0\n",
        "      is_prime=False #設定值\n",
        "      break #這段程式中斷(跳出)\n",
        "  if is_prime==True: \n",
        "    print(n) #p是錯誤的\n",
        "  n+=1#每次執行完n+1"
      ],
      "execution_count": null,
      "outputs": [
        {
          "output_type": "stream",
          "text": [
            "2\n",
            "3\n",
            "5\n",
            "7\n",
            "11\n",
            "13\n",
            "17\n",
            "19\n",
            "23\n",
            "29\n",
            "31\n",
            "37\n",
            "41\n",
            "43\n",
            "47\n"
          ],
          "name": "stdout"
        }
      ]
    },
    {
      "cell_type": "markdown",
      "metadata": {
        "id": "jTLquGY2evu-"
      },
      "source": [
        "## 42  \n",
        "## 程式結構重組"
      ]
    },
    {
      "cell_type": "code",
      "metadata": {
        "colab": {
          "base_uri": "https://localhost:8080/"
        },
        "id": "aTRmxBrXdMnu",
        "outputId": "72dfbb13-61bf-433e-f199-d4666b9b2b44"
      },
      "source": [
        "def Whoisbigger(numberList, number): #少了def #定義函式\n",
        "  for i in range(len(numberList)): #將numberList中的值逐一跑迴圈\n",
        "    if numberList[i] > number: #如果numberList[i](從第0位到最後)有找到比number還大的數字則印出下行\n",
        "      print(\"{0}清單中找到比{1}大的值\".format(numberList,number))\n",
        "      break#這段判斷程式中斷(跳出)\n",
        "    else: #其餘則印出下行\n",
        "      print(\"{0}清單中找不到比{1}大的值\".format(numberList,number))\n",
        "Whoisbigger([1,2,3,4,5,6], 3)"
      ],
      "execution_count": null,
      "outputs": [
        {
          "output_type": "stream",
          "text": [
            "[1, 2, 3, 4, 5, 6]清單中找不到比3大的值\n",
            "[1, 2, 3, 4, 5, 6]清單中找不到比3大的值\n",
            "[1, 2, 3, 4, 5, 6]清單中找不到比3大的值\n",
            "[1, 2, 3, 4, 5, 6]清單中找到比3大的值\n"
          ],
          "name": "stdout"
        }
      ]
    },
    {
      "cell_type": "markdown",
      "metadata": {
        "id": "2mMsdMyVhK18"
      },
      "source": [
        "## 43  \n",
        "## while迴圈應用"
      ]
    },
    {
      "cell_type": "code",
      "metadata": {
        "colab": {
          "base_uri": "https://localhost:8080/"
        },
        "id": "9ai6dOtTfwfV",
        "outputId": "51350099-552e-4e4d-c318-eb19cc79f205"
      },
      "source": [
        "p_no=\"flag\" #第一次進入while使用，任何非空值之字串皆可以\n",
        "group=\"\" #設定值\n",
        "while p_no != \"\": #不輸入值即可跳開\n",
        "  valid=False #設定值\n",
        "  p_no=input(\"請輸入產品編號(dddd-dd):\") #輸入對話窗\n",
        "  group=p_no.split('-') #-是分段\n",
        "  if len(group)==2: #group被-分開成2群\n",
        "    if len(group[0])==4 and len(group[1])==2: #如果前面長度是4和後面長度是2\n",
        "      if group[0].isdigit() and group[1].isdigit(): #檢測前後是否都是由數字組成\n",
        "        valid=True #回傳true\n",
        "  print(valid) #印出結果"
      ],
      "execution_count": null,
      "outputs": [
        {
          "output_type": "stream",
          "text": [
            "請輸入產品編號(dddd-dd):123\n",
            "False\n",
            "請輸入產品編號(dddd-dd):kh\n",
            "False\n",
            "請輸入產品編號(dddd-dd):jkjk-ll\n",
            "False\n",
            "請輸入產品編號(dddd-dd):1234-56\n",
            "True\n",
            "請輸入產品編號(dddd-dd):\n",
            "False\n"
          ],
          "name": "stdout"
        }
      ]
    },
    {
      "cell_type": "markdown",
      "metadata": {
        "id": "FzO08ATPiyPh"
      },
      "source": [
        "## 44 \n",
        "## while迴圈應用"
      ]
    },
    {
      "cell_type": "code",
      "metadata": {
        "colab": {
          "base_uri": "https://localhost:8080/"
        },
        "id": "ydsjPl9jiPjj",
        "outputId": "a66689f9-650b-4734-e507-1ba51ae238d5"
      },
      "source": [
        "numList=range(10) #[0,1,2,3,4,5,6,7,8,9] #設定串列\n",
        "num=0  #設定值\n",
        "while (num<10): #執行到num大於等於10\n",
        "  print(numList[num]) #先印出numList[num] num是每次迴圈給的值\n",
        "  if numList[num] == 8: #若numList[num]等於8\n",
        "    break  #這段判斷程式中斷(跳出)\n",
        "  else: #其餘則num+1\n",
        "    num +=1"
      ],
      "execution_count": null,
      "outputs": [
        {
          "output_type": "stream",
          "text": [
            "0\n",
            "1\n",
            "2\n",
            "3\n",
            "4\n",
            "5\n",
            "6\n",
            "7\n",
            "8\n"
          ],
          "name": "stdout"
        }
      ]
    },
    {
      "cell_type": "markdown",
      "metadata": {
        "id": "h0PkWo__jxyL"
      },
      "source": [
        "## 45  \n",
        "## os開檔、寫檔"
      ]
    },
    {
      "cell_type": "code",
      "metadata": {
        "colab": {
          "base_uri": "https://localhost:8080/"
        },
        "id": "fDSK-vz4jMdm",
        "outputId": "18375469-b005-4fa1-eeae-b4bed75b67bd"
      },
      "source": [
        "import os #匯入作業系統操作呼叫的相關模組\n",
        "if os.path.isfile('usefile.txt'): #如果usefile.txt存在\n",
        "  file=open('usefile.txt')#打開檔\n",
        "  print(file.read())#讀檔並印出內容\n",
        "  file.close() #關閉檔案 一定要關閉檔案!\n",
        "else: #題目少了這一行 如果沒有存在\n",
        "  file=open('usefile.txt','a') #a是新增檔案, a+是附加檔案\n",
        "  file.write('這是檔尾') #寫入資料\n",
        "  file.close #關閉檔案 一定要關閉檔案!"
      ],
      "execution_count": null,
      "outputs": [
        {
          "output_type": "stream",
          "text": [
            "這是檔尾\n"
          ],
          "name": "stdout"
        }
      ]
    },
    {
      "cell_type": "markdown",
      "metadata": {
        "id": "t09swWsIlDty"
      },
      "source": [
        "## 46  \n",
        "## os開檔"
      ]
    },
    {
      "cell_type": "code",
      "metadata": {
        "colab": {
          "base_uri": "https://localhost:8080/",
          "height": 35
        },
        "id": "ezdWuI-gj5ti",
        "outputId": "4b567286-f0e6-4dc6-ea2f-854fe94df02c"
      },
      "source": [
        "import os #匯入作業系統操作呼叫的相關模組\n",
        "def get_file_content(usefile): #定義函式\n",
        "  if os.path.isfile(usefile): #如果usefile.txt存在\n",
        "    with open(usefile, 'r') as file: #讀檔\n",
        "      return file.read() #題目usefle.read()是錯誤的 #回傳檔案內容\n",
        "  else: #其餘則回傳下行\n",
        "    return \"檔案不存在\"\n",
        "\n",
        "get_file_content(\"usefile.txt\") #印出結果"
      ],
      "execution_count": null,
      "outputs": [
        {
          "output_type": "execute_result",
          "data": {
            "application/vnd.google.colaboratory.intrinsic+json": {
              "type": "string"
            },
            "text/plain": [
              "'這是檔尾'"
            ]
          },
          "metadata": {
            "tags": []
          },
          "execution_count": 26
        }
      ]
    },
    {
      "cell_type": "markdown",
      "metadata": {
        "id": "wmCo5zcKl5op"
      },
      "source": [
        "##47  \n",
        "## 開檔屬性應用\n",
        "* r:讀取, a:附加, w:寫入\n",
        "* r+:除了讀取，還有寫入功能，檔案不存在會回傳error\n",
        "* a+:除了附加,還有讀取功能\n",
        "* w+:除了寫入,還有讀取功能,和r+不同處在於檔案不存在會新增一個檔"
      ]
    },
    {
      "cell_type": "markdown",
      "metadata": {
        "id": "6Xl_j336oxXW"
      },
      "source": [
        "## 48  \n",
        "## 開檔讀資料\n",
        "(需新增一個staffs.txt檔案)"
      ]
    },
    {
      "cell_type": "code",
      "metadata": {
        "colab": {
          "base_uri": "https://localhost:8080/"
        },
        "id": "giavlzJKlpyp",
        "outputId": "2f864db8-f22d-4256-9b40-91e7216468e9"
      },
      "source": [
        "import os #題目忘了這行 #匯入作業系統操作呼叫的相關模組\n",
        "staffs = open(\"staffs.txt\", 'r') #打開檔\n",
        "eof=False #設定值\n",
        "while eof==False: #執行到eof=true\n",
        "  line=staffs.readline() #讀檔的內容\n",
        "  if line != '': #如果不是空值\n",
        "    if line != \"\\n\":  #如果不是換行\n",
        "      print(line.strip()) #strip()去除頭尾空白\n",
        "  else: #其餘則印出下行\n",
        "    print(\"檔案結束\")\n",
        "    eof=True #設定值\n",
        "staffs.close() #關閉檔案 一定要關閉檔案!"
      ],
      "execution_count": null,
      "outputs": [
        {
          "output_type": "stream",
          "text": [
            "'Sales', 1, 'John'\n",
            "'Sales', 2, 'Mary'\n",
            "檔案結束\n"
          ],
          "name": "stdout"
        }
      ]
    },
    {
      "cell_type": "markdown",
      "metadata": {
        "id": "zDS8Z9EsrPVT"
      },
      "source": [
        "## 49  \n",
        "## input與格式應用"
      ]
    },
    {
      "cell_type": "code",
      "metadata": {
        "colab": {
          "base_uri": "https://localhost:8080/"
        },
        "id": "i_s-BThhp5ud",
        "outputId": "50ce83c1-841d-40d8-e7e3-3aaa89cfc631"
      },
      "source": [
        "star=star_count=star_done=0 #三個都設定為0(INT)\n",
        "star_average=0.0 #浮點數\n",
        "while (star_done!=-1): #如果star_done不等於-1\n",
        "  star_rating=float(input(\"請輸入評等(1-5),完成請輸入-1：\")) #題目star拼錯 #輸入對話框\n",
        "  if star_rating == -1: #如果star_rating等於-1\n",
        "    break #這段判斷程式中斷(跳出)\n",
        "  star += star_rating #star=star+star_rating\n",
        "  star_count += 1 #star_count+1\n",
        "star_average = float(star/star_count) #運算式(浮點)\n",
        "print(\"餐廳的平均星等是：{}\".format(star_average, '.2f')) #少了{},format少了一個.#印出結果"
      ],
      "execution_count": null,
      "outputs": [
        {
          "output_type": "stream",
          "text": [
            "請輸入評等(1-5),完成請輸入-1：4\n",
            "請輸入評等(1-5),完成請輸入-1：5\n",
            "請輸入評等(1-5),完成請輸入-1：3\n",
            "請輸入評等(1-5),完成請輸入-1：-1\n",
            "餐廳的平均星等是：4.0\n"
          ],
          "name": "stdout"
        }
      ]
    },
    {
      "cell_type": "markdown",
      "metadata": {
        "id": "fyFBSg_duG55"
      },
      "source": [
        "## 50   \n",
        "## datetime fomat格式應用\n",
        "%a  : 星期縮寫 *　　　　　(Mon)  \n",
        "%A  : 星期全寫 *　　　　　(Monday)  \n",
        "%w  : 星期數字  　　　　　(0 … 6)  \n",
        "%d  : 日期  　　　　　　　(01 … 31)  \n",
        "%b  : 月份縮寫 *　　　　　(Jan)  \n",
        "%B  : 月份全寫 *　　　　　(January)  \n",
        "%m  : 月份數字  　　　　　(01 … 12)  \n",
        "%y  : 西元年二位數字  　　(00 … 99)  \n",
        "%Y  : 西元年  　　　　　　(1970 … 2018)  \n",
        "%H  : 24小時制  　　　　　(00 … 23)  \n",
        "%I  : 12小時制  　　　　　(01 … 12)  \n",
        "%p  : AM 或 PM *  \n",
        "%M  : 分  　　　　　　　　(00 … 59)  \n",
        "%S  : 秒  　　　　　　　　(00 … 59)  \n",
        "%f  : 微秒，六位數字  　　(000000 … 999999)  \n",
        "%c  : 日期和時間 *　　　　(Tue Aug 16 21:30:00 2017)  \n",
        "%x  : 日期 *　　　　　　　(08/16/2017)  \n",
        "%X  : 時間 *　　　　　　　(21:30:00)  "
      ]
    },
    {
      "cell_type": "code",
      "metadata": {
        "colab": {
          "base_uri": "https://localhost:8080/"
        },
        "id": "xssoIGuUswGG",
        "outputId": "1b28784c-b684-4a3d-8dd7-81c7c16adbbb"
      },
      "source": [
        "import datetime #匯入日期時間\n",
        "data=datetime.datetime(2019,5,16) #設定值\n",
        "print(data) #印出\n",
        "print('{:%y-%m-%d}'.format(data)) #%y兩位數 %Y四位數  #印出\n",
        "num=12345.6789 #設定值\n",
        "print('{:,.2f}'.format(num)) # :特殊格式化符號 ,三位數加一個逗號 .2f:兩位小數點 #印出"
      ],
      "execution_count": null,
      "outputs": [
        {
          "output_type": "stream",
          "text": [
            "2019-05-16 00:00:00\n",
            "19-05-16\n",
            "12,345.68\n"
          ],
          "name": "stdout"
        }
      ]
    },
    {
      "cell_type": "markdown",
      "metadata": {
        "id": "stejD2X-Buuk"
      },
      "source": [
        "## 51  \n",
        "## 列印格式化"
      ]
    },
    {
      "cell_type": "code",
      "metadata": {
        "id": "RBJeNQbSueVO",
        "colab": {
          "base_uri": "https://localhost:8080/"
        },
        "outputId": "6403b6be-122d-4550-a3cf-a04db839ab17"
      },
      "source": [
        "name=input(\"請輸入姓名：\") #輸入對話框\n",
        "sum=score=count=0 #設定值\n",
        "while (score != -1): #執行到score等於-1\n",
        "  score=int(input(\"輸入你的分數(輸入-1結束程式：\")) #輸入的資料會轉成int型式\n",
        "  if score == -1: #如果score等於-1\n",
        "    break #這段判斷程式中斷(跳出)\n",
        "  sum += score #sum=sum+score\n",
        "  count += 1 #count+1\n",
        "average=sum/count #運算式\n",
        "print(\"%-10s, 你的平均分數是: %7.3f\" %(name,average)) #正號(+)靠右對齊,負號(-)靠左對期,10s代表字串長度最長為10,7.3f代表總寬度是7,整數位數是3,小數點是1,小數點後位數是3 #印出結果"
      ],
      "execution_count": null,
      "outputs": [
        {
          "output_type": "stream",
          "text": [
            "請輸入姓名：ray\n",
            "輸入你的分數(輸入-1結束程式：80\n",
            "輸入你的分數(輸入-1結束程式：60\n",
            "輸入你的分數(輸入-1結束程式：55\n",
            "輸入你的分數(輸入-1結束程式：-1\n",
            "ray       , 你的平均分數是:  65.000\n"
          ],
          "name": "stdout"
        }
      ]
    },
    {
      "cell_type": "markdown",
      "metadata": {
        "id": "A_NA9_OVGiSa"
      },
      "source": [
        "## 52  \n",
        "## 開檔列印格式化\n",
        "(需新增staff.txt,資料用,分開)"
      ]
    },
    {
      "cell_type": "code",
      "metadata": {
        "colab": {
          "base_uri": "https://localhost:8080/"
        },
        "id": "wmW0ZN2YCfB6",
        "outputId": "d7d86840-a500-4a2d-f784-b1ad3de49d3c"
      },
      "source": [
        "import os #少了這行 #匯入作業系統操作呼叫的相關模組\n",
        "def print_cartable(file): #定義函式\n",
        "  data=open(file,'r') #讀檔\n",
        "  for record in data: #將內容逐一傳入record\n",
        "    fields=record.split(\",\") #遇到,分段\n",
        "    print(\"{0:10} {1:5.1f} {2:7.2f}\".format(fields[0], eval(fields[1]),eval(fields[2]))) #0,1,2代表後面哪一筆資料\n",
        "print_cartable(\"staff.txt\")#印出結果"
      ],
      "execution_count": null,
      "outputs": [
        {
          "output_type": "stream",
          "text": [
            "Acar         2.0   95.00\n",
            "Bcar         1.5   72.00\n",
            "Ccar         2.5  120.10\n"
          ],
          "name": "stdout"
        }
      ]
    },
    {
      "cell_type": "markdown",
      "metadata": {
        "id": "Ik7AM5w1JZav"
      },
      "source": [
        "## 53  \n",
        "## 列印格式化"
      ]
    },
    {
      "cell_type": "code",
      "metadata": {
        "colab": {
          "base_uri": "https://localhost:8080/"
        },
        "id": "PsCBwqpuIWd4",
        "outputId": "9a813c79-537a-49d6-a21f-a19612001ab2"
      },
      "source": [
        "p_name=input(\"輸入名稱：\") #輸入對話框\n",
        "p_qty=input(\"輸入數量：\") #輸入對話框\n",
        "print('\"{0}\",{1}'.format(p_name,p_qty)) #format寫法\n",
        "print('\"'+ p_name + '\",' + p_qty) #字串相加+\n",
        "print('\"%s\",%s' % (p_name, p_qty)) #舊式%寫法\n",
        "print(\"{0},{1}\".format(p_name,p_qty)) #少了\"\n"
      ],
      "execution_count": null,
      "outputs": [
        {
          "output_type": "stream",
          "text": [
            "輸入名稱：desk\n",
            "輸入數量：5\n",
            "\"desk\",5\n",
            "\"desk\",5\n",
            "\"desk\",5\n",
            "desk,5\n"
          ],
          "name": "stdout"
        }
      ]
    },
    {
      "cell_type": "markdown",
      "metadata": {
        "id": "Hf7XaJG1KlWr"
      },
      "source": [
        "##54  \n",
        "## input應用"
      ]
    },
    {
      "cell_type": "code",
      "metadata": {
        "colab": {
          "base_uri": "https://localhost:8080/"
        },
        "id": "ZtdJxg9JKcP-",
        "outputId": "180aed44-279f-4b48-cc15-637fbae8f5c5"
      },
      "source": [
        "print(\"請輸入年齡：\") #輸入對話框\n",
        "user_age=input() #user_age=輸入的資料\n",
        "print(user_age) #印出結果"
      ],
      "execution_count": null,
      "outputs": [
        {
          "output_type": "stream",
          "text": [
            "請輸入年齡：\n",
            "50\n",
            "50\n"
          ],
          "name": "stdout"
        }
      ]
    },
    {
      "cell_type": "markdown",
      "metadata": {
        "id": "KJgMVMX3K-kZ"
      },
      "source": [
        "## 55  \n",
        "## 註解\"#\""
      ]
    },
    {
      "cell_type": "code",
      "metadata": {
        "id": "hL-50A8CK7uD"
      },
      "source": [
        "def get_pname(): #定義函式\n",
        "  #顯示商品名稱 #此行為註解\n",
        "  return pname #回傳值"
      ],
      "execution_count": null,
      "outputs": []
    },
    {
      "cell_type": "markdown",
      "metadata": {
        "id": "cC4gqvAkLXxL"
      },
      "source": [
        "## 56  \n",
        "## 註解\"#\""
      ]
    },
    {
      "cell_type": "markdown",
      "metadata": {
        "id": "3ZqQnq08LdOx"
      },
      "source": [
        "## 57  \n",
        "## 字串內的#號"
      ]
    },
    {
      "cell_type": "code",
      "metadata": {
        "id": "Ijkr_btyLWPp"
      },
      "source": [
        "#calc_times函式計算二數乘積\n",
        "#x是被乘數\n",
        "#y是乘數\n",
        "#返回x*y的值\n",
        "def cal_times(x,y): #定義函式\n",
        "  comment=\"#返回值\"  #前面的#會被當作字串\n",
        "  return x*y  #x*y"
      ],
      "execution_count": null,
      "outputs": []
    },
    {
      "cell_type": "markdown",
      "metadata": {
        "id": "ICTc4dhmMLRo"
      },
      "source": [
        "## 58  \n",
        "## 函式應用"
      ]
    },
    {
      "cell_type": "code",
      "metadata": {
        "colab": {
          "base_uri": "https://localhost:8080/"
        },
        "id": "jsy9TgpTMKA6",
        "outputId": "da0bcf8b-cfb9-4dee-8fae-cd220e6e3249"
      },
      "source": [
        "def get_name(): #定義函式\n",
        "  name=input(\"請輸入你的姓名：\") #輸入對話框\n",
        "  return name #回傳值\n",
        "def calc_calories(km,cpk): #定義函式\n",
        "  calories=km*cpk #運算式\n",
        "  return calories #回傳值\n",
        "distance = int(input(\"請問你騎了幾公里?\"))#輸入對話框\n",
        "burn_rate=50 #設定值\n",
        "biker=get_name() #將get_name()的值給biker\n",
        "calories_burned=calc_calories(distance, burn_rate) #將calc_calories的值給calories_burned\n",
        "print(biker,\",你燃燒了大約\", calories_burned,\"卡路里\") #印出結果"
      ],
      "execution_count": null,
      "outputs": [
        {
          "output_type": "stream",
          "text": [
            "請問你騎了幾公里?20\n",
            "請輸入你的姓名：cindy\n",
            "cindy ,你燃燒了大約 1000 卡路里\n"
          ],
          "name": "stdout"
        }
      ]
    },
    {
      "cell_type": "markdown",
      "metadata": {
        "id": "XGIBK0kWNjM5"
      },
      "source": [
        "## 59  \n",
        "## 參數預設值應用\n",
        "(本題沒有題號，答案應該是A)"
      ]
    },
    {
      "cell_type": "code",
      "metadata": {
        "colab": {
          "base_uri": "https://localhost:8080/"
        },
        "id": "5Us_AJv4NJBl",
        "outputId": "78e7ec54-c7d5-437c-b2eb-0975829ceba8"
      },
      "source": [
        "def calc_score(total, double, scores=1): #定義函式\n",
        "  if double==True: #設定值\n",
        "    scores=scores*2 #運算式\n",
        "  total=total+scores #運算式\n",
        "  return total #回傳值\n",
        "scores=5 #設定值\n",
        "total=10 #設定值\n",
        "new_score=calc_score(total, True, scores) #給函式的值\n",
        "print(new_score) #印出結果\n",
        "new_score=calc_score(total,True)#給函式的值\n",
        "print(new_score)#印出結果"
      ],
      "execution_count": 37,
      "outputs": [
        {
          "output_type": "stream",
          "text": [
            "20\n",
            "12\n"
          ],
          "name": "stdout"
        }
      ]
    },
    {
      "cell_type": "markdown",
      "metadata": {
        "id": "Iu5_SqrSP0UQ"
      },
      "source": [
        "## 60  \n",
        "## 函式應用"
      ]
    },
    {
      "cell_type": "code",
      "metadata": {
        "colab": {
          "base_uri": "https://localhost:8080/"
        },
        "id": "wVxnsamvOp-R",
        "outputId": "32c9e901-d6c0-4095-c724-31b2f4bb8b10"
      },
      "source": [
        "def add_score(current, value): #定義函式\n",
        "  current += value #current=current+value\n",
        "  return current  #回傳值\n",
        "print(add_score(80,10))#給函式的值並印出結果"
      ],
      "execution_count": 38,
      "outputs": [
        {
          "output_type": "stream",
          "text": [
            "90\n"
          ],
          "name": "stdout"
        }
      ]
    },
    {
      "cell_type": "markdown",
      "metadata": {
        "id": "RMboXSoOQn6i"
      },
      "source": [
        "## 61  \n",
        "## try except應用"
      ]
    },
    {
      "cell_type": "code",
      "metadata": {
        "colab": {
          "base_uri": "https://localhost:8080/"
        },
        "id": "0-3SyLPTQRaO",
        "outputId": "f03a6e71-8e2a-4197-c0c9-2c8a4c3c2654"
      },
      "source": [
        "try: #產生例外\n",
        "  file1=open(\"file1.txt\", 'r') #開檔案來讀取\n",
        "  file2=open(\"file2.txt\", 'w+') #開檔案來寫入，若存在則覆蓋 \n",
        "except IOError: #做相對應的例外處理\n",
        "  print(\"檔案不存在\") #印出\n",
        "else: #其餘\n",
        "  i=1 #設定值\n",
        "  for line in file1: #將file1逐一傳入line\n",
        "    print(line.rstrip()) #印出\n",
        "    file2.write(\"line \" + str(i) + \":\" + line) #寫檔\n",
        "    i=i+1 #i+1\n",
        "  file1.close() #關閉檔案 一定要關閉檔案!\n",
        "  file2.close()#關閉檔案 一定要關閉檔案!\n"
      ],
      "execution_count": null,
      "outputs": [
        {
          "output_type": "stream",
          "text": [
            "檔案不存在\n"
          ],
          "name": "stdout"
        }
      ]
    },
    {
      "cell_type": "markdown",
      "metadata": {
        "id": "Rzgv0-K-RuPg"
      },
      "source": [
        "## 62  \n",
        "## 錯誤偵錯"
      ]
    },
    {
      "cell_type": "code",
      "metadata": {
        "id": "K0Sdy37NRWlM",
        "colab": {
          "base_uri": "https://localhost:8080/",
          "height": 131
        },
        "outputId": "93619351-6bc9-496f-e39b-692a454a1beb"
      },
      "source": [
        "import math #匯入數學公式\n",
        "#default motion for car\n",
        "go = True #設定值\n",
        "move = 0 #設定值\n",
        "while(go): #執行到go=false\n",
        "  if move == 0: #原始沒有縮排 設定值\n",
        "  go_dist = math.pi / move #會產生除以0的錯誤\n",
        "  move += 5 #move=move+5\n",
        "else: #其餘\n",
        "  go_dist =0  #設定值\n",
        "  move = 0 #設定值\n"
      ],
      "execution_count": null,
      "outputs": [
        {
          "output_type": "error",
          "ename": "IndentationError",
          "evalue": "ignored",
          "traceback": [
            "\u001b[0;36m  File \u001b[0;32m\"<ipython-input-2-0fa50c6affad>\"\u001b[0;36m, line \u001b[0;32m7\u001b[0m\n\u001b[0;31m    go_dist = math.pi / move #會產生除以0的錯誤\u001b[0m\n\u001b[0m          ^\u001b[0m\n\u001b[0;31mIndentationError\u001b[0m\u001b[0;31m:\u001b[0m expected an indented block\n"
          ]
        }
      ]
    },
    {
      "cell_type": "markdown",
      "metadata": {
        "id": "Crdpr1jymhEr"
      },
      "source": [
        "## 63  \n",
        "## range函式與//應用"
      ]
    },
    {
      "cell_type": "code",
      "metadata": {
        "colab": {
          "base_uri": "https://localhost:8080/"
        },
        "id": "6DUhTjDsm0H4",
        "outputId": "58997bc8-beb2-41ba-a69a-fae384111fa0"
      },
      "source": [
        "scores=[90,80,82,76] #設定串列\n",
        "count=0 #設定值\n",
        "sum=0 #設定值\n",
        "for index in range(0, len(scores)): #range函式(起始點,不包含終止點) #將scores逐一傳入index\n",
        "  count += 1 #count =count +1\n",
        "  sum += scores[index] #sum=sum+scores[index](scores從第0位到最後)\n",
        "average = sum / count #//是求餘數,/才是除法\n",
        "print(\"總計分數是：\",sum) #印出結果\n",
        "print(\"平均分數是：\", average) #印出結果"
      ],
      "execution_count": 39,
      "outputs": [
        {
          "output_type": "stream",
          "text": [
            "總計分數是： 328\n",
            "平均分數是： 82.0\n"
          ],
          "name": "stdout"
        }
      ]
    },
    {
      "cell_type": "markdown",
      "metadata": {
        "id": "tGJHYF26ozYa"
      },
      "source": [
        "## 64  \n",
        "## 縮排應用) \n",
        "(準備usefile.txt)"
      ]
    },
    {
      "cell_type": "code",
      "metadata": {
        "colab": {
          "base_uri": "https://localhost:8080/"
        },
        "id": "PwZUgjZ3nvLP",
        "outputId": "8bc667de-c9f3-4d93-c184-bb5f5df73669"
      },
      "source": [
        "import os #匯入作業系統操作呼叫的相關模組 \n",
        "def read_filename(file):#定義函式\n",
        "  line= None #設定值\n",
        "  if os.path.isfile(file): #如果file存在\n",
        "    readfile = open(file, 'r') #讀檔\n",
        "    while line != '':  #此處應該縮排 #line不等於空白\n",
        "      line=readfile.readline() #此處應該縮排 #讀檔\n",
        "      print(line)       #此處應該縮排  #印出讀出的內容\n",
        "read_filename(\"usefile.txt\") #給函式的值並印出"
      ],
      "execution_count": null,
      "outputs": [
        {
          "output_type": "stream",
          "text": [
            "test1\n",
            "\n",
            "test2\n",
            "\n",
            "\n",
            "\n",
            "test3 \n",
            "\n"
          ],
          "name": "stdout"
        }
      ]
    },
    {
      "cell_type": "markdown",
      "metadata": {
        "id": "Z6pg85Bap-8h"
      },
      "source": [
        "## 65  \n",
        "## list使用方式為[], 以及:應用"
      ]
    },
    {
      "cell_type": "code",
      "metadata": {
        "colab": {
          "base_uri": "https://localhost:8080/"
        },
        "id": "ii4jFAy0pydW",
        "outputId": "511fdf7b-e4fb-43f0-f08a-6422ece556a4"
      },
      "source": [
        "nList = range(10) #0-9\n",
        "no = 0 #設定值\n",
        "while (no<10): #少了: #執行到no大於等於10\n",
        "  print(nList[no]) #印出nList的值\n",
        "  if nList[no] == 5: #nlist(no)改成nList[no], =改成==, 少了: #如果nList[no]等於5\n",
        "    break #這段判斷程式中斷(跳出)\n",
        "  else: #其餘\n",
        "    no += 3 #no=no+3"
      ],
      "execution_count": 40,
      "outputs": [
        {
          "output_type": "stream",
          "text": [
            "0\n",
            "3\n",
            "6\n",
            "9\n"
          ],
          "name": "stdout"
        }
      ]
    },
    {
      "cell_type": "markdown",
      "metadata": {
        "id": "-crz-maSq3IJ"
      },
      "source": [
        "## 66  \n",
        "## try except finally應用"
      ]
    },
    {
      "cell_type": "code",
      "metadata": {
        "id": "ks7BsHtFqa_d"
      },
      "source": [
        "#try: #例外\n",
        "#  運算式\n",
        "#except 錯誤情況1:\n",
        "#  處理方式1\n",
        "#except 錯誤情況2:\n",
        "#  處理方式2\n",
        "#  ...\n",
        "#finally:\n",
        "#  一定會執行到的命令"
      ],
      "execution_count": null,
      "outputs": []
    },
    {
      "cell_type": "markdown",
      "metadata": {
        "id": "abzOnLBKr0mw"
      },
      "source": [
        "## 67  \n",
        "## try except錯誤處理"
      ]
    },
    {
      "cell_type": "code",
      "metadata": {
        "colab": {
          "base_uri": "https://localhost:8080/",
          "height": 655
        },
        "id": "uzoJEgNxryRz",
        "outputId": "a9017ab6-5f33-4d50-9366-616cbdfe361a"
      },
      "source": [
        "while True: #執行到等於Flase\n",
        "  try: #產生例外\n",
        "    x=int(input(\"請輸入一個被除數：\"))\n",
        "    y=int(input(\"請輸入一個除數：\"))\n",
        "    result = x / y #x除y\n",
        "  except ZeroDivisionError: #做相對應的例外處理\n",
        "    print(\"除數不能為零，再試一次...\")#印出\n",
        "  else: #上敘判斷成立\n",
        "    print(result) #印出值\n"
      ],
      "execution_count": 42,
      "outputs": [
        {
          "output_type": "stream",
          "text": [
            "請輸入一個被除數：50\n",
            "請輸入一個除數：10\n",
            "5.0\n",
            "請輸入一個被除數：30\n",
            "請輸入一個除數：0\n",
            "除數不能為零，再試一次...\n"
          ],
          "name": "stdout"
        },
        {
          "output_type": "error",
          "ename": "KeyboardInterrupt",
          "evalue": "ignored",
          "traceback": [
            "\u001b[0;31m---------------------------------------------------------------------------\u001b[0m",
            "\u001b[0;31mKeyboardInterrupt\u001b[0m                         Traceback (most recent call last)",
            "\u001b[0;32m/usr/local/lib/python3.7/dist-packages/ipykernel/kernelbase.py\u001b[0m in \u001b[0;36m_input_request\u001b[0;34m(self, prompt, ident, parent, password)\u001b[0m\n\u001b[1;32m    728\u001b[0m             \u001b[0;32mtry\u001b[0m\u001b[0;34m:\u001b[0m\u001b[0;34m\u001b[0m\u001b[0;34m\u001b[0m\u001b[0m\n\u001b[0;32m--> 729\u001b[0;31m                 \u001b[0mident\u001b[0m\u001b[0;34m,\u001b[0m \u001b[0mreply\u001b[0m \u001b[0;34m=\u001b[0m \u001b[0mself\u001b[0m\u001b[0;34m.\u001b[0m\u001b[0msession\u001b[0m\u001b[0;34m.\u001b[0m\u001b[0mrecv\u001b[0m\u001b[0;34m(\u001b[0m\u001b[0mself\u001b[0m\u001b[0;34m.\u001b[0m\u001b[0mstdin_socket\u001b[0m\u001b[0;34m,\u001b[0m \u001b[0;36m0\u001b[0m\u001b[0;34m)\u001b[0m\u001b[0;34m\u001b[0m\u001b[0;34m\u001b[0m\u001b[0m\n\u001b[0m\u001b[1;32m    730\u001b[0m             \u001b[0;32mexcept\u001b[0m \u001b[0mException\u001b[0m\u001b[0;34m:\u001b[0m\u001b[0;34m\u001b[0m\u001b[0;34m\u001b[0m\u001b[0m\n",
            "\u001b[0;32m/usr/local/lib/python3.7/dist-packages/jupyter_client/session.py\u001b[0m in \u001b[0;36mrecv\u001b[0;34m(self, socket, mode, content, copy)\u001b[0m\n\u001b[1;32m    802\u001b[0m         \u001b[0;32mtry\u001b[0m\u001b[0;34m:\u001b[0m\u001b[0;34m\u001b[0m\u001b[0;34m\u001b[0m\u001b[0m\n\u001b[0;32m--> 803\u001b[0;31m             \u001b[0mmsg_list\u001b[0m \u001b[0;34m=\u001b[0m \u001b[0msocket\u001b[0m\u001b[0;34m.\u001b[0m\u001b[0mrecv_multipart\u001b[0m\u001b[0;34m(\u001b[0m\u001b[0mmode\u001b[0m\u001b[0;34m,\u001b[0m \u001b[0mcopy\u001b[0m\u001b[0;34m=\u001b[0m\u001b[0mcopy\u001b[0m\u001b[0;34m)\u001b[0m\u001b[0;34m\u001b[0m\u001b[0;34m\u001b[0m\u001b[0m\n\u001b[0m\u001b[1;32m    804\u001b[0m         \u001b[0;32mexcept\u001b[0m \u001b[0mzmq\u001b[0m\u001b[0;34m.\u001b[0m\u001b[0mZMQError\u001b[0m \u001b[0;32mas\u001b[0m \u001b[0me\u001b[0m\u001b[0;34m:\u001b[0m\u001b[0;34m\u001b[0m\u001b[0;34m\u001b[0m\u001b[0m\n",
            "\u001b[0;32m/usr/local/lib/python3.7/dist-packages/zmq/sugar/socket.py\u001b[0m in \u001b[0;36mrecv_multipart\u001b[0;34m(self, flags, copy, track)\u001b[0m\n\u001b[1;32m    582\u001b[0m         \"\"\"\n\u001b[0;32m--> 583\u001b[0;31m         \u001b[0mparts\u001b[0m \u001b[0;34m=\u001b[0m \u001b[0;34m[\u001b[0m\u001b[0mself\u001b[0m\u001b[0;34m.\u001b[0m\u001b[0mrecv\u001b[0m\u001b[0;34m(\u001b[0m\u001b[0mflags\u001b[0m\u001b[0;34m,\u001b[0m \u001b[0mcopy\u001b[0m\u001b[0;34m=\u001b[0m\u001b[0mcopy\u001b[0m\u001b[0;34m,\u001b[0m \u001b[0mtrack\u001b[0m\u001b[0;34m=\u001b[0m\u001b[0mtrack\u001b[0m\u001b[0;34m)\u001b[0m\u001b[0;34m]\u001b[0m\u001b[0;34m\u001b[0m\u001b[0;34m\u001b[0m\u001b[0m\n\u001b[0m\u001b[1;32m    584\u001b[0m         \u001b[0;31m# have first part already, only loop while more to receive\u001b[0m\u001b[0;34m\u001b[0m\u001b[0;34m\u001b[0m\u001b[0;34m\u001b[0m\u001b[0m\n",
            "\u001b[0;32mzmq/backend/cython/socket.pyx\u001b[0m in \u001b[0;36mzmq.backend.cython.socket.Socket.recv\u001b[0;34m()\u001b[0m\n",
            "\u001b[0;32mzmq/backend/cython/socket.pyx\u001b[0m in \u001b[0;36mzmq.backend.cython.socket.Socket.recv\u001b[0;34m()\u001b[0m\n",
            "\u001b[0;32mzmq/backend/cython/socket.pyx\u001b[0m in \u001b[0;36mzmq.backend.cython.socket._recv_copy\u001b[0;34m()\u001b[0m\n",
            "\u001b[0;32m/usr/local/lib/python3.7/dist-packages/zmq/backend/cython/checkrc.pxd\u001b[0m in \u001b[0;36mzmq.backend.cython.checkrc._check_rc\u001b[0;34m()\u001b[0m\n",
            "\u001b[0;31mKeyboardInterrupt\u001b[0m: ",
            "\nDuring handling of the above exception, another exception occurred:\n",
            "\u001b[0;31mKeyboardInterrupt\u001b[0m                         Traceback (most recent call last)",
            "\u001b[0;32m<ipython-input-42-53f0bbf4d152>\u001b[0m in \u001b[0;36m<module>\u001b[0;34m()\u001b[0m\n\u001b[1;32m      1\u001b[0m \u001b[0;32mwhile\u001b[0m \u001b[0;32mTrue\u001b[0m\u001b[0;34m:\u001b[0m \u001b[0;31m#執行到等於Flase\u001b[0m\u001b[0;34m\u001b[0m\u001b[0;34m\u001b[0m\u001b[0m\n\u001b[1;32m      2\u001b[0m   \u001b[0;32mtry\u001b[0m\u001b[0;34m:\u001b[0m \u001b[0;31m#產生例外\u001b[0m\u001b[0;34m\u001b[0m\u001b[0;34m\u001b[0m\u001b[0m\n\u001b[0;32m----> 3\u001b[0;31m     \u001b[0mx\u001b[0m\u001b[0;34m=\u001b[0m\u001b[0mint\u001b[0m\u001b[0;34m(\u001b[0m\u001b[0minput\u001b[0m\u001b[0;34m(\u001b[0m\u001b[0;34m\"請輸入一個被除數：\"\u001b[0m\u001b[0;34m)\u001b[0m\u001b[0;34m)\u001b[0m\u001b[0;34m\u001b[0m\u001b[0;34m\u001b[0m\u001b[0m\n\u001b[0m\u001b[1;32m      4\u001b[0m     \u001b[0my\u001b[0m\u001b[0;34m=\u001b[0m\u001b[0mint\u001b[0m\u001b[0;34m(\u001b[0m\u001b[0minput\u001b[0m\u001b[0;34m(\u001b[0m\u001b[0;34m\"請輸入一個除數：\"\u001b[0m\u001b[0;34m)\u001b[0m\u001b[0;34m)\u001b[0m\u001b[0;34m\u001b[0m\u001b[0;34m\u001b[0m\u001b[0m\n\u001b[1;32m      5\u001b[0m     \u001b[0mresult\u001b[0m \u001b[0;34m=\u001b[0m \u001b[0mx\u001b[0m \u001b[0;34m/\u001b[0m \u001b[0my\u001b[0m \u001b[0;31m#x除y\u001b[0m\u001b[0;34m\u001b[0m\u001b[0;34m\u001b[0m\u001b[0m\n",
            "\u001b[0;32m/usr/local/lib/python3.7/dist-packages/ipykernel/kernelbase.py\u001b[0m in \u001b[0;36mraw_input\u001b[0;34m(self, prompt)\u001b[0m\n\u001b[1;32m    702\u001b[0m             \u001b[0mself\u001b[0m\u001b[0;34m.\u001b[0m\u001b[0m_parent_ident\u001b[0m\u001b[0;34m,\u001b[0m\u001b[0;34m\u001b[0m\u001b[0;34m\u001b[0m\u001b[0m\n\u001b[1;32m    703\u001b[0m             \u001b[0mself\u001b[0m\u001b[0;34m.\u001b[0m\u001b[0m_parent_header\u001b[0m\u001b[0;34m,\u001b[0m\u001b[0;34m\u001b[0m\u001b[0;34m\u001b[0m\u001b[0m\n\u001b[0;32m--> 704\u001b[0;31m             \u001b[0mpassword\u001b[0m\u001b[0;34m=\u001b[0m\u001b[0;32mFalse\u001b[0m\u001b[0;34m,\u001b[0m\u001b[0;34m\u001b[0m\u001b[0;34m\u001b[0m\u001b[0m\n\u001b[0m\u001b[1;32m    705\u001b[0m         )\n\u001b[1;32m    706\u001b[0m \u001b[0;34m\u001b[0m\u001b[0m\n",
            "\u001b[0;32m/usr/local/lib/python3.7/dist-packages/ipykernel/kernelbase.py\u001b[0m in \u001b[0;36m_input_request\u001b[0;34m(self, prompt, ident, parent, password)\u001b[0m\n\u001b[1;32m    732\u001b[0m             \u001b[0;32mexcept\u001b[0m \u001b[0mKeyboardInterrupt\u001b[0m\u001b[0;34m:\u001b[0m\u001b[0;34m\u001b[0m\u001b[0;34m\u001b[0m\u001b[0m\n\u001b[1;32m    733\u001b[0m                 \u001b[0;31m# re-raise KeyboardInterrupt, to truncate traceback\u001b[0m\u001b[0;34m\u001b[0m\u001b[0;34m\u001b[0m\u001b[0;34m\u001b[0m\u001b[0m\n\u001b[0;32m--> 734\u001b[0;31m                 \u001b[0;32mraise\u001b[0m \u001b[0mKeyboardInterrupt\u001b[0m\u001b[0;34m\u001b[0m\u001b[0;34m\u001b[0m\u001b[0m\n\u001b[0m\u001b[1;32m    735\u001b[0m             \u001b[0;32melse\u001b[0m\u001b[0;34m:\u001b[0m\u001b[0;34m\u001b[0m\u001b[0;34m\u001b[0m\u001b[0m\n\u001b[1;32m    736\u001b[0m                 \u001b[0;32mbreak\u001b[0m\u001b[0;34m\u001b[0m\u001b[0;34m\u001b[0m\u001b[0m\n",
            "\u001b[0;31mKeyboardInterrupt\u001b[0m: "
          ]
        }
      ]
    },
    {
      "cell_type": "markdown",
      "metadata": {
        "id": "novLL9Npznpx"
      },
      "source": [
        "## 68  \n",
        "## import as應用"
      ]
    },
    {
      "cell_type": "code",
      "metadata": {
        "id": "h5-KoRW4sZg8"
      },
      "source": [
        "from random import randint as rt  ##從亂數模組中，匯入一個定義-隨機整數 名稱式rt"
      ],
      "execution_count": null,
      "outputs": []
    },
    {
      "cell_type": "markdown",
      "metadata": {
        "id": "hrohYLfv1PR5"
      },
      "source": [
        "## 69  \n",
        "## os函式應用"
      ]
    },
    {
      "cell_type": "code",
      "metadata": {
        "colab": {
          "base_uri": "https://localhost:8080/"
        },
        "id": "qbzFxPr_1N2F",
        "outputId": "f5a69b24-218b-4eb0-92cd-e9c9e347b1e9"
      },
      "source": [
        "import os #匯入作業系統操作呼叫的相關模組 \n",
        "def print_file(filename): #定義函式\n",
        "  line=None #設定值\n",
        "  if os.path.isfile(filename): #檔案存在是isfile函式,不存在isexit #如果filename存在\n",
        "    data = open(filename, 'r') #讀檔\n",
        "    for line in data: #將data逐一傳入line\n",
        "      print(line) #印出\n",
        "print_file('usefile.txt') #給函式的值並印出結果"
      ],
      "execution_count": null,
      "outputs": [
        {
          "output_type": "stream",
          "text": [
            "test1\n",
            "\n",
            "test2\n",
            "\n",
            "\n",
            "\n",
            "test3 \n"
          ],
          "name": "stdout"
        }
      ]
    },
    {
      "cell_type": "markdown",
      "metadata": {
        "id": "zwz-PnJ72ona"
      },
      "source": [
        "## 70  \n",
        "## random套件應用\n",
        "* random.randrange(a, b, c)  \n",
        "返回開區間[a,b),間隔c之數字 \n",
        "* random.randint(a, b)  \n",
        "返回閉區間[a, b]範圍内的整数值  \n",
        "* numpy.random.randint(a, b)  \n",
        "返回開區間[a, b)範圍内的整数值"
      ]
    },
    {
      "cell_type": "code",
      "metadata": {
        "colab": {
          "base_uri": "https://localhost:8080/"
        },
        "id": "57gSbOvN138-",
        "outputId": "bc3496a0-d792-48e7-fc4b-a8afe3d853e7"
      },
      "source": [
        "import random #匯入亂數\n",
        "data=random.randrange(1,11,1) #包含1不包含11,產生1個隨機數字\n",
        "print(data) #印出\n",
        "data=random.randint(1,10) #包含1~10的隨機數字\n",
        "print(data)#印出"
      ],
      "execution_count": 44,
      "outputs": [
        {
          "output_type": "stream",
          "text": [
            "2\n",
            "9\n"
          ],
          "name": "stdout"
        }
      ]
    },
    {
      "cell_type": "markdown",
      "metadata": {
        "id": "cuqw3rP85CQa"
      },
      "source": [
        "## 71  \n",
        "## random函式應用"
      ]
    },
    {
      "cell_type": "code",
      "metadata": {
        "colab": {
          "base_uri": "https://localhost:8080/"
        },
        "id": "eptF9Mw73BaG",
        "outputId": "6744f1f2-80a9-4fde-c20b-86df60278f94"
      },
      "source": [
        "import random #匯入亂數\n",
        "print(random.random()) #隨機產生在[0,1)範圍內的值"
      ],
      "execution_count": 48,
      "outputs": [
        {
          "output_type": "stream",
          "text": [
            "0.6707776093075954\n"
          ],
          "name": "stdout"
        }
      ]
    },
    {
      "cell_type": "markdown",
      "metadata": {
        "id": "Fu71pDMR5e1g"
      },
      "source": [
        "## 72  \n",
        "## random套件應用"
      ]
    },
    {
      "cell_type": "code",
      "metadata": {
        "colab": {
          "base_uri": "https://localhost:8080/"
        },
        "id": "69yQ9osN5dAe",
        "outputId": "908f001d-d40b-4e99-8ee1-7663b549f796"
      },
      "source": [
        "from random import randint #從亂數模組中，匯入一個定義-隨機整數\n",
        "print(randint(0,10)*5) #印出產生出的亂數*5\n",
        "from random import randrange #可以指定範圍的亂數((start, stop ,step))\n",
        "print(randrange(0,51,5)) #印出0、5、10、15、20...到50中的隨機數"
      ],
      "execution_count": 68,
      "outputs": [
        {
          "output_type": "stream",
          "text": [
            "0\n",
            "20\n"
          ],
          "name": "stdout"
        }
      ]
    },
    {
      "cell_type": "markdown",
      "metadata": {
        "id": "T1TnWkYn6EFB"
      },
      "source": [
        "## 73  \n",
        "## math套件應用"
      ]
    },
    {
      "cell_type": "code",
      "metadata": {
        "colab": {
          "base_uri": "https://localhost:8080/"
        },
        "id": "8LS3383q57X0",
        "outputId": "972c37c0-d8a9-4f86-9425-2dc40c23fd84"
      },
      "source": [
        "import math #匯入數學運算\n",
        "x=-5.33 #設定值\n",
        "x=math.fabs(x) #取絕對值\n",
        "print(x) #印出\n",
        "x=math.floor(x) #低於x且最接近的整數\n",
        "print(x)#印出"
      ],
      "execution_count": 69,
      "outputs": [
        {
          "output_type": "stream",
          "text": [
            "5.33\n",
            "5\n"
          ],
          "name": "stdout"
        }
      ]
    }
  ]
}