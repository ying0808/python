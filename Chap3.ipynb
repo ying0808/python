{
 "cells": [
  {
   "cell_type": "markdown",
   "metadata": {},
   "source": [
    "## Python 物件\n",
    "## List(串列) Tuple(元組) Dictionary(字典)Sets(集合)\n",
    "## List[串列]\n",
    "使用中括號[]包裹元素"
   ]
  },
  {
   "cell_type": "code",
   "execution_count": 1,
   "metadata": {},
   "outputs": [
    {
     "name": "stdout",
     "output_type": "stream",
     "text": [
      "3600\n"
     ]
    }
   ],
   "source": [
    "expenses=[1138,101,12,300,2049]  ##令expenses為串列\n",
    "print(sum(expenses))  #加總串列中的元素"
   ]
  },
  {
   "cell_type": "markdown",
   "metadata": {},
   "source": [
    "索引"
   ]
  },
  {
   "cell_type": "code",
   "execution_count": null,
   "metadata": {},
   "outputs": [],
   "source": [
    "expenses=[1138,101,12,300,2049]\n",
    "print(expenses[0]) #索引從0開始 取第0個\n",
    "print(expenses[1])\n",
    "print(expenses[-1]) #取倒數第一個\n",
    "print(expenses[-2])"
   ]
  },
  {
   "cell_type": "code",
   "execution_count": 3,
   "metadata": {},
   "outputs": [
    {
     "name": "stdout",
     "output_type": "stream",
     "text": [
      "javascript\n"
     ]
    }
   ],
   "source": [
    "my_list1=list()  #空串列\n",
    "my_list2=['python','javascript','C#'] # ''字串符號\n",
    "print(my_list2[1])"
   ]
  },
  {
   "cell_type": "markdown",
   "metadata": {},
   "source": [
    "list的長度"
   ]
  },
  {
   "cell_type": "code",
   "execution_count": 4,
   "metadata": {},
   "outputs": [
    {
     "name": "stdout",
     "output_type": "stream",
     "text": [
      "3\n",
      "10\n"
     ]
    }
   ],
   "source": [
    "my_list2=['python','javascript','C#']\n",
    "print(len(my_list2)) #串列長度(有幾項\n",
    "print(len(my_list2[1])) #第1項元素的長度"
   ]
  },
  {
   "cell_type": "markdown",
   "metadata": {},
   "source": [
    "加入元素"
   ]
  },
  {
   "cell_type": "code",
   "execution_count": 5,
   "metadata": {},
   "outputs": [
    {
     "name": "stdout",
     "output_type": "stream",
     "text": [
      "['python', 'javascript', 'C#', 'java']\n"
     ]
    }
   ],
   "source": [
    "my_list2=['python','javascript','C#']\n",
    "my_list2.append('java')  #加在最後\n",
    "print(my_list2)"
   ]
  },
  {
   "cell_type": "code",
   "execution_count": 6,
   "metadata": {},
   "outputs": [
    {
     "name": "stdout",
     "output_type": "stream",
     "text": [
      "['python', 'java', 'javascript', 'C#']\n"
     ]
    }
   ],
   "source": [
    "my_list2=['python','javascript','C#']\n",
    "my_list2.insert(1,'java') #(插入第幾項，加入的指定內容)\n",
    "print(my_list2)"
   ]
  },
  {
   "cell_type": "markdown",
   "metadata": {},
   "source": [
    "刪除"
   ]
  },
  {
   "cell_type": "code",
   "execution_count": 7,
   "metadata": {},
   "outputs": [
    {
     "name": "stdout",
     "output_type": "stream",
     "text": [
      "['javascript', 'C#']\n",
      "['javascript']\n",
      "[]\n"
     ]
    }
   ],
   "source": [
    "my_list2=['python','javascript','C#']\n",
    "my_list2.remove('python') #移除指定元素\n",
    "print(my_list2)\n",
    "del my_list2[-1] #刪除指定位置元素\n",
    "print(my_list2)\n",
    "my_list2.clear() #清除全部\n",
    "print(my_list2)"
   ]
  },
  {
   "cell_type": "code",
   "execution_count": 8,
   "metadata": {},
   "outputs": [
    {
     "name": "stdout",
     "output_type": "stream",
     "text": [
      "[1, 3, 1, 3, 1, 3, 1, 3, 1, 3]\n"
     ]
    }
   ],
   "source": [
    "a=[1,3]\n",
    "print(a*5)"
   ]
  },
  {
   "cell_type": "markdown",
   "metadata": {},
   "source": [
    "list的取值"
   ]
  },
  {
   "cell_type": "code",
   "execution_count": 9,
   "metadata": {},
   "outputs": [
    {
     "name": "stdout",
     "output_type": "stream",
     "text": [
      "[1, 2, 3]\n",
      "[1, 3, 5, 7, 9]\n",
      "[1, 2, 3, 4, 5, 6, 7, 8, 9]\n",
      "[1, 2, 3, 4, 5, 6, 7, 8, 9]\n",
      "[1, 2, 3, 4, 5, 6, 7, 8, 9]\n"
     ]
    }
   ],
   "source": [
    "\n",
    "a=[1,2,3,4,5,6,7,8,9]\n",
    "b=a[0:3] #範圍取值 0,1,2不包含3 \n",
    "print(b)\n",
    "c=a[0:9:2] #間隔2取值\n",
    "print(c)\n",
    "d=a[0:] #0到最後\n",
    "print(d)\n",
    "e=a[ :9] #第九個前面都印\n",
    "print(e)\n",
    "f=a[:] #取所有值\n",
    "print(f)"
   ]
  },
  {
   "cell_type": "code",
   "execution_count": 10,
   "metadata": {},
   "outputs": [
    {
     "name": "stdout",
     "output_type": "stream",
     "text": [
      "[1, 2, 3, 4, 5, 6, 7]\n",
      "1\n",
      "7\n",
      "0\n",
      "4\n",
      "[7, 6, 5, 4, 3, 2, 1]\n",
      "[1, 2, 3, 4, 5, 6, 7]\n"
     ]
    }
   ],
   "source": [
    "a=[1,2,3,4,5,6,7,8,9]\n",
    "del a[7:9] #刪除某範圍值7,8\n",
    "print(a)\n",
    "print(min(a)) #最小值\n",
    "print(max(a)) #最大值\n",
    "print(a.index(1)) #找出1所在第一個索引值\n",
    "b=[1,0,0,1,1,1]\n",
    "print(b.count(1)) #1出現的次數\n",
    "a.reverse() #串列反轉\n",
    "print(a)\n",
    "a.sort() #串列由大到小排序,a的值會被改變\n",
    "print(a)"
   ]
  },
  {
   "cell_type": "code",
   "execution_count": 12,
   "metadata": {},
   "outputs": [
    {
     "name": "stdout",
     "output_type": "stream",
     "text": [
      "[12, 101, 300, 1138, 2049] [1138, 101, 12, 300, 2049]\n"
     ]
    }
   ],
   "source": [
    "expenses=[1138,101,12,300,2049]\n",
    "s=sorted(expenses) #expenses的值不會變，並排序 小到大\n",
    "print(s,expenses) "
   ]
  },
  {
   "cell_type": "code",
   "execution_count": null,
   "metadata": {},
   "outputs": [],
   "source": []
  }
 ],
 "metadata": {
  "kernelspec": {
   "display_name": "Python 3",
   "language": "python",
   "name": "python3"
  },
  "language_info": {
   "codemirror_mode": {
    "name": "ipython",
    "version": 3
   },
   "file_extension": ".py",
   "mimetype": "text/x-python",
   "name": "python",
   "nbconvert_exporter": "python",
   "pygments_lexer": "ipython3",
   "version": "3.8.5"
  }
 },
 "nbformat": 4,
 "nbformat_minor": 4
}
