{
  "nbformat": 4,
  "nbformat_minor": 0,
  "metadata": {
    "colab": {
      "name": "Chap7.ipynb",
      "provenance": []
    },
    "kernelspec": {
      "name": "python3",
      "display_name": "Python 3"
    },
    "language_info": {
      "name": "python"
    }
  },
  "cells": [
    {
      "cell_type": "markdown",
      "metadata": {
        "id": "9jh8hcJntgFW"
      },
      "source": [
        "# Chap7 錯誤處理\n",
        "try:\n",
        "\n",
        "except:\n",
        "\n",
        "else:\n",
        "\n",
        "finally:"
      ]
    },
    {
      "cell_type": "code",
      "metadata": {
        "colab": {
          "base_uri": "https://localhost:8080/",
          "height": 197
        },
        "id": "5TQrHWB7tmeB",
        "outputId": "5de6655a-b4bb-435e-97ad-688e3f26329c"
      },
      "source": [
        "a=10 #建立值\n",
        "b=20 #建立值\n",
        "if a<b:\n",
        "    print(n) #找不到n，所以error"
      ],
      "execution_count": 10,
      "outputs": [
        {
          "output_type": "error",
          "ename": "NameError",
          "evalue": "ignored",
          "traceback": [
            "\u001b[0;31m---------------------------------------------------------------------------\u001b[0m",
            "\u001b[0;31mNameError\u001b[0m                                 Traceback (most recent call last)",
            "\u001b[0;32m<ipython-input-10-6bc610f4e647>\u001b[0m in \u001b[0;36m<module>\u001b[0;34m()\u001b[0m\n\u001b[1;32m      2\u001b[0m \u001b[0mb\u001b[0m\u001b[0;34m=\u001b[0m\u001b[0;36m20\u001b[0m \u001b[0;31m#建立值\u001b[0m\u001b[0;34m\u001b[0m\u001b[0;34m\u001b[0m\u001b[0m\n\u001b[1;32m      3\u001b[0m \u001b[0;32mif\u001b[0m \u001b[0ma\u001b[0m\u001b[0;34m<\u001b[0m\u001b[0mb\u001b[0m\u001b[0;34m:\u001b[0m\u001b[0;34m\u001b[0m\u001b[0;34m\u001b[0m\u001b[0m\n\u001b[0;32m----> 4\u001b[0;31m     \u001b[0mprint\u001b[0m\u001b[0;34m(\u001b[0m\u001b[0mn\u001b[0m\u001b[0;34m)\u001b[0m \u001b[0;31m#找不到n，所以error\u001b[0m\u001b[0;34m\u001b[0m\u001b[0;34m\u001b[0m\u001b[0m\n\u001b[0m",
            "\u001b[0;31mNameError\u001b[0m: name 'n' is not defined"
          ]
        }
      ]
    },
    {
      "cell_type": "code",
      "metadata": {
        "colab": {
          "base_uri": "https://localhost:8080/"
        },
        "id": "SxyPmJ9FtxkQ",
        "outputId": "24f603a0-f462-47ab-8e12-1768bc351995"
      },
      "source": [
        "a=10 #建立值\n",
        "b=20 #建立值\n",
        "try: #嘗試 如果無法順利執行，在過程中產生了例外，就會接著執行except\n",
        "    if a<b:\n",
        "        print(n)  #n不存在，若沒有except除錯，則會跑出error\n",
        "except: #若有錯誤產生則印出\n",
        "    print(\"錯誤產生\")"
      ],
      "execution_count": 9,
      "outputs": [
        {
          "output_type": "stream",
          "text": [
            "錯誤產生\n"
          ],
          "name": "stdout"
        }
      ]
    },
    {
      "cell_type": "markdown",
      "metadata": {
        "id": "w3kbnvUpt4-c"
      },
      "source": [
        "## 指定錯誤類別處理"
      ]
    },
    {
      "cell_type": "code",
      "metadata": {
        "colab": {
          "base_uri": "https://localhost:8080/"
        },
        "id": "OauyIgqWt3b5",
        "outputId": "b41e0c75-0248-482f-e9df-de219cf71293"
      },
      "source": [
        "a=10 #建立值\n",
        "b=20 #建立值\n",
        "try: #嘗試 如果無法順利執行，在過程中產生了例外，就會接著執行except\n",
        "    if a<b:\n",
        "        print(n) #n不存在，若沒有except除錯，則會跑出error\n",
        "except NameError as e: #NameError=無法找到所指定的變數(n)\n",
        "    print(\"錯誤產生, 錯誤原因：\",e)\n",
        "except ZeroDivisionError:\n",
        "    print(\"除以0錯誤\") #值不得除以0"
      ],
      "execution_count": 8,
      "outputs": [
        {
          "output_type": "stream",
          "text": [
            "錯誤產生, 錯誤原因： name 'n' is not defined\n"
          ],
          "name": "stdout"
        }
      ]
    },
    {
      "cell_type": "markdown",
      "metadata": {
        "id": "6ZRw3Fzbt-qF"
      },
      "source": [
        "## else\n",
        "沒有錯誤產生會執行的部分"
      ]
    },
    {
      "cell_type": "code",
      "metadata": {
        "colab": {
          "base_uri": "https://localhost:8080/"
        },
        "id": "htO2-otAt-AK",
        "outputId": "3a41b78d-05e7-45ba-b5fd-0cb72c1cf5f2"
      },
      "source": [
        "\n",
        "a=10 #建立值\n",
        "b=20 #建立值\n",
        "try: #嘗試 如果無法順利執行，在過程中產生了例外，就會接著執行except\n",
        "    if a>b: #改變比較條件，讓錯誤不發生，因為a小於b,所以跳到else\n",
        "        print(n)\n",
        "except:\n",
        "    print(\"錯誤發生\") #若if成立，才會執行這行\n",
        "else:\n",
        "    print(\"沒有錯誤發生時會執行的部分\") "
      ],
      "execution_count": 7,
      "outputs": [
        {
          "output_type": "stream",
          "text": [
            "沒有錯誤發生時會執行的部分\n"
          ],
          "name": "stdout"
        }
      ]
    },
    {
      "cell_type": "code",
      "metadata": {
        "colab": {
          "base_uri": "https://localhost:8080/"
        },
        "id": "xq6iXjKKuEKH",
        "outputId": "af84430f-d47d-4a6c-e407-46d6001bf603"
      },
      "source": [
        "a=10\n",
        "b=20\n",
        "try:\n",
        "    if a>b: #改變比較條件，讓錯誤不發生\n",
        "        print(n)\n",
        "except:\n",
        "    print(\"錯誤發生\")\n",
        "else:\n",
        "    print(\"沒有錯誤發生時會執行的部分\")\n",
        "finally:\n",
        "    print(\"不管有沒有錯誤一定會執行的部分\")"
      ],
      "execution_count": 6,
      "outputs": [
        {
          "output_type": "stream",
          "text": [
            "沒有錯誤發生時會執行的部分\n",
            "不管有沒有錯誤一定會執行的部分\n"
          ],
          "name": "stdout"
        }
      ]
    },
    {
      "cell_type": "code",
      "metadata": {
        "id": "khZ9-DhZuFOq"
      },
      "source": [
        ""
      ],
      "execution_count": null,
      "outputs": []
    }
  ]
}